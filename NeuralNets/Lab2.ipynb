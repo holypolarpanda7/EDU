{
 "cells": [
  {
   "cell_type": "markdown",
   "metadata": {},
   "source": [
    "# Homework 2"
   ]
  },
  {
   "cell_type": "code",
   "execution_count": 25,
   "metadata": {},
   "outputs": [],
   "source": [
    "import numpy as np\n",
    "\n",
    "from sympy import *\n",
    "init_printing(use_latex=True)\n",
    "\n",
    "import scipy.spatial.distance as ssd\n",
    "import matplotlib.pyplot as plt\n",
    "%matplotlib inline"
   ]
  },
  {
   "cell_type": "markdown",
   "metadata": {},
   "source": [
    "## Problem 1"
   ]
  },
  {
   "cell_type": "code",
   "execution_count": 15,
   "metadata": {},
   "outputs": [
    {
     "name": "stdout",
     "output_type": "stream",
     "text": [
      "15\n",
      "9.643650760992955\n"
     ]
    }
   ],
   "source": [
    "x = np.array([5,2,8])\n",
    "\n",
    "print(np.sum(x))\n",
    "\n",
    "print(np.sqrt(np.dot(x,x)))"
   ]
  },
  {
   "cell_type": "markdown",
   "metadata": {},
   "source": [
    "## Problem 2"
   ]
  },
  {
   "cell_type": "code",
   "execution_count": 17,
   "metadata": {},
   "outputs": [
    {
     "name": "stdout",
     "output_type": "stream",
     "text": [
      "7.280109889280518\n",
      "0.25173010611051416\n"
     ]
    }
   ],
   "source": [
    "y = np.array([1,3,2])\n",
    "\n",
    "# print(np.sqrt(np.dot(np.dif))) or\n",
    "print(ssd.minkowski(x,y,2))\n",
    "\n",
    "print(ssd.cosine(x,y))"
   ]
  },
  {
   "cell_type": "markdown",
   "metadata": {},
   "source": [
    "## Problem 3"
   ]
  },
  {
   "cell_type": "code",
   "execution_count": 36,
   "metadata": {},
   "outputs": [
    {
     "data": {
      "text/latex": [
       "$$\\left[\\begin{matrix}1 & 2 & 3\\\\4 & 5 & 6\\\\7 & 8 & 9\\\\10 & 11 & 12\\\\13 & 14 & 14\\end{matrix}\\right]$$"
      ],
      "text/plain": [
       "⎡1   2   3 ⎤\n",
       "⎢          ⎥\n",
       "⎢4   5   6 ⎥\n",
       "⎢          ⎥\n",
       "⎢7   8   9 ⎥\n",
       "⎢          ⎥\n",
       "⎢10  11  12⎥\n",
       "⎢          ⎥\n",
       "⎣13  14  14⎦"
      ]
     },
     "execution_count": 36,
     "metadata": {},
     "output_type": "execute_result"
    }
   ],
   "source": [
    "matrixA = np.array([[1,2,3],\n",
    "                    [4,5,6],\n",
    "                    [7,8,9],\n",
    "                    [10,11,12],\n",
    "                    [13,14,14]])\n",
    "Matrix(matrixA)"
   ]
  },
  {
   "cell_type": "markdown",
   "metadata": {},
   "source": [
    "## Problem 4"
   ]
  },
  {
   "cell_type": "code",
   "execution_count": 38,
   "metadata": {},
   "outputs": [
    {
     "data": {
      "text/latex": [
       "$$\\left[\\begin{matrix}33\\\\78\\\\123\\\\168\\\\205\\end{matrix}\\right]$$"
      ],
      "text/plain": [
       "⎡33 ⎤\n",
       "⎢   ⎥\n",
       "⎢78 ⎥\n",
       "⎢   ⎥\n",
       "⎢123⎥\n",
       "⎢   ⎥\n",
       "⎢168⎥\n",
       "⎢   ⎥\n",
       "⎣205⎦"
      ]
     },
     "execution_count": 38,
     "metadata": {},
     "output_type": "execute_result"
    }
   ],
   "source": [
    "Matrix(np.dot(matrixA,x))"
   ]
  },
  {
   "cell_type": "code",
   "execution_count": 39,
   "metadata": {},
   "outputs": [
    {
     "data": {
      "text/latex": [
       "$$\\left[\\begin{matrix}13\\\\31\\\\49\\\\67\\\\83\\end{matrix}\\right]$$"
      ],
      "text/plain": [
       "⎡13⎤\n",
       "⎢  ⎥\n",
       "⎢31⎥\n",
       "⎢  ⎥\n",
       "⎢49⎥\n",
       "⎢  ⎥\n",
       "⎢67⎥\n",
       "⎢  ⎥\n",
       "⎣83⎦"
      ]
     },
     "execution_count": 39,
     "metadata": {},
     "output_type": "execute_result"
    }
   ],
   "source": [
    "Matrix(np.dot(matrixA,y))"
   ]
  },
  {
   "cell_type": "markdown",
   "metadata": {},
   "source": [
    "## Problem 5"
   ]
  },
  {
   "cell_type": "code",
   "execution_count": 40,
   "metadata": {},
   "outputs": [
    {
     "data": {
      "text/latex": [
       "$$\\left[\\begin{matrix}38 & 44 & 50 & 56\\\\83 & 98 & 113 & 128\\\\128 & 152 & 176 & 200\\\\173 & 206 & 239 & 272\\\\209 & 250 & 291 & 332\\end{matrix}\\right]$$"
      ],
      "text/plain": [
       "⎡38   44   50   56 ⎤\n",
       "⎢                  ⎥\n",
       "⎢83   98   113  128⎥\n",
       "⎢                  ⎥\n",
       "⎢128  152  176  200⎥\n",
       "⎢                  ⎥\n",
       "⎢173  206  239  272⎥\n",
       "⎢                  ⎥\n",
       "⎣209  250  291  332⎦"
      ]
     },
     "execution_count": 40,
     "metadata": {},
     "output_type": "execute_result"
    }
   ],
   "source": [
    "matrixB = np.array([[1,2,3,4],\n",
    "                    [5,6,7,8],\n",
    "                    [9,10,11,12]])\n",
    "Matrix(np.dot(matrixA,matrixB))"
   ]
  },
  {
   "cell_type": "markdown",
   "metadata": {},
   "source": [
    "## Problem 6"
   ]
  },
  {
   "cell_type": "code",
   "execution_count": 41,
   "metadata": {},
   "outputs": [
    {
     "data": {
      "text/latex": [
       "$$\\left[\\begin{matrix}0.0 & 5.19615242270663 & 10.3923048454133 & 15.5884572681199 & 20.2237484161567\\\\5.19615242270663 & 0.0 & 5.19615242270663 & 10.3923048454133 & 15.0332963783729\\\\10.3923048454133 & 5.19615242270663 & 0.0 & 5.19615242270663 & 9.8488578017961\\\\15.5884572681199 & 10.3923048454133 & 5.19615242270663 & 0.0 & 4.69041575982343\\\\20.2237484161567 & 15.0332963783729 & 9.8488578017961 & 4.69041575982343 & 0.0\\end{matrix}\\right]$$"
      ],
      "text/plain": [
       "⎡      0.0         5.19615242270663  10.3923048454133  15.5884572681199  20.22\n",
       "⎢                                                                             \n",
       "⎢5.19615242270663        0.0         5.19615242270663  10.3923048454133  15.03\n",
       "⎢                                                                             \n",
       "⎢10.3923048454133  5.19615242270663        0.0         5.19615242270663  9.848\n",
       "⎢                                                                             \n",
       "⎢15.5884572681199  10.3923048454133  5.19615242270663        0.0         4.690\n",
       "⎢                                                                             \n",
       "⎣20.2237484161567  15.0332963783729  9.8488578017961   4.69041575982343       \n",
       "\n",
       "37484161567⎤\n",
       "           ⎥\n",
       "32963783729⎥\n",
       "           ⎥\n",
       "8578017961 ⎥\n",
       "           ⎥\n",
       "41575982343⎥\n",
       "           ⎥\n",
       " 0.0       ⎦"
      ]
     },
     "execution_count": 41,
     "metadata": {},
     "output_type": "execute_result"
    }
   ],
   "source": [
    "Matrix(ssd.squareform(ssd.pdist(matrixA,metric='euclidean')))"
   ]
  },
  {
   "cell_type": "markdown",
   "metadata": {},
   "source": [
    "## Problem 7"
   ]
  },
  {
   "cell_type": "code",
   "execution_count": 43,
   "metadata": {},
   "outputs": [
    {
     "data": {
      "text/latex": [
       "$$\\left[\\begin{matrix}30 & 70 & 110\\\\70 & 174 & 278\\\\110 & 278 & 446\\end{matrix}\\right]$$"
      ],
      "text/plain": [
       "⎡30   70   110⎤\n",
       "⎢             ⎥\n",
       "⎢70   174  278⎥\n",
       "⎢             ⎥\n",
       "⎣110  278  446⎦"
      ]
     },
     "execution_count": 43,
     "metadata": {},
     "output_type": "execute_result"
    }
   ],
   "source": [
    "matrixC = np.dot(matrixB,matrixB.T)\n",
    "Matrix(matrixC)"
   ]
  },
  {
   "cell_type": "markdown",
   "metadata": {},
   "source": [
    "## Problem 8"
   ]
  },
  {
   "cell_type": "code",
   "execution_count": 44,
   "metadata": {},
   "outputs": [
    {
     "data": {
      "text/latex": [
       "$$\\left[\\begin{matrix}-0.206735891257632 & -0.889153307703033 & 0.408248290463864\\\\-0.518288737899116 & -0.254381834061074 & -0.816496580927726\\\\-0.8298415845406 & 0.380389639580891 & 0.408248290463863\\end{matrix}\\right] \\left[\\begin{matrix}647.03260704469 & 0.0 & 0.0\\\\0.0 & 2.96739295530956 & 0.0\\\\0.0 & 0.0 & 4.87870499398046 \\cdot 10^{-14}\\end{matrix}\\right] \\left[\\begin{matrix}-0.206735891257632 & -0.518288737899116 & -0.8298415845406\\\\-0.889153307703033 & -0.254381834061074 & 0.380389639580891\\\\0.408248290463864 & -0.816496580927726 & 0.408248290463863\\end{matrix}\\right]$$"
      ],
      "text/plain": [
       "⎡-0.206735891257632  -0.889153307703033  0.408248290463864 ⎤ ⎡647.03260704469 \n",
       "⎢                                                          ⎥ ⎢                \n",
       "⎢-0.518288737899116  -0.254381834061074  -0.816496580927726⎥⋅⎢      0.0       \n",
       "⎢                                                          ⎥ ⎢                \n",
       "⎣ -0.8298415845406   0.380389639580891   0.408248290463863 ⎦ ⎣      0.0       \n",
       "\n",
       "       0.0                 0.0         ⎤ ⎡-0.206735891257632  -0.5182887378991\n",
       "                                       ⎥ ⎢                                    \n",
       " 2.96739295530956          0.0         ⎥⋅⎢-0.889153307703033  -0.2543818340610\n",
       "                                       ⎥ ⎢                                    \n",
       "       0.0         4.87870499398046e-14⎦ ⎣0.408248290463864   -0.8164965809277\n",
       "\n",
       "16  -0.8298415845406 ⎤\n",
       "                     ⎥\n",
       "74  0.380389639580891⎥\n",
       "                     ⎥\n",
       "26  0.408248290463863⎦"
      ]
     },
     "execution_count": 44,
     "metadata": {},
     "output_type": "execute_result"
    }
   ],
   "source": [
    "L,Q = np.linalg.eig(matrixC)\n",
    "\n",
    "Mul(Matrix(Q),Matrix(np.diag(L)), Matrix(Q).T,evaluate = False)"
   ]
  },
  {
   "cell_type": "markdown",
   "metadata": {},
   "source": [
    "## Problem 9"
   ]
  },
  {
   "cell_type": "code",
   "execution_count": 49,
   "metadata": {},
   "outputs": [
    {
     "data": {
      "text/latex": [
       "$$\\left[\\begin{matrix}30.0 & 70.0 & 110.0\\\\70.0 & 174.0 & 278.0\\\\110.0 & 278.0 & 446.0\\end{matrix}\\right]$$"
      ],
      "text/plain": [
       "⎡30.0   70.0   110.0⎤\n",
       "⎢                   ⎥\n",
       "⎢70.0   174.0  278.0⎥\n",
       "⎢                   ⎥\n",
       "⎣110.0  278.0  446.0⎦"
      ]
     },
     "execution_count": 49,
     "metadata": {},
     "output_type": "execute_result"
    }
   ],
   "source": [
    "Matrix(np.round(np.dot(np.dot(Q,np.diag(L)),Q.T),1))"
   ]
  },
  {
   "cell_type": "markdown",
   "metadata": {},
   "source": [
    "## Problem 10"
   ]
  },
  {
   "cell_type": "code",
   "execution_count": 50,
   "metadata": {},
   "outputs": [
    {
     "data": {
      "text/latex": [
       "$$\\left[\\begin{matrix}-0.206735891257632 & 0.889153307703034 & 0.408248290463863\\\\-0.518288737899116 & 0.254381834061072 & -0.816496580927726\\\\-0.8298415845406 & -0.38038963958089 & 0.408248290463863\\end{matrix}\\right] \\left[\\begin{matrix}647.03260704469 & 0.0 & 0.0\\\\0.0 & 2.96739295530957 & 0.0\\\\0.0 & 0.0 & 2.01790290563207 \\cdot 10^{-16}\\end{matrix}\\right] \\left[\\begin{matrix}-0.206735891257632 & -0.518288737899116 & -0.8298415845406\\\\0.889153307703034 & 0.254381834061072 & -0.38038963958089\\\\0.408248290463863 & -0.816496580927726 & 0.408248290463863\\end{matrix}\\right]$$"
      ],
      "text/plain": [
       "⎡-0.206735891257632  0.889153307703034  0.408248290463863 ⎤ ⎡647.03260704469  \n",
       "⎢                                                         ⎥ ⎢                 \n",
       "⎢-0.518288737899116  0.254381834061072  -0.816496580927726⎥⋅⎢      0.0        \n",
       "⎢                                                         ⎥ ⎢                 \n",
       "⎣ -0.8298415845406   -0.38038963958089  0.408248290463863 ⎦ ⎣      0.0        \n",
       "\n",
       "      0.0                 0.0         ⎤ ⎡-0.206735891257632  -0.51828873789911\n",
       "                                      ⎥ ⎢                                     \n",
       "2.96739295530957          0.0         ⎥⋅⎢0.889153307703034   0.254381834061072\n",
       "                                      ⎥ ⎢                                     \n",
       "      0.0         2.01790290563207e-16⎦ ⎣0.408248290463863   -0.81649658092772\n",
       "\n",
       "6  -0.8298415845406 ⎤\n",
       "                    ⎥\n",
       "   -0.38038963958089⎥\n",
       "                    ⎥\n",
       "6  0.408248290463863⎦"
      ]
     },
     "execution_count": 50,
     "metadata": {},
     "output_type": "execute_result"
    }
   ],
   "source": [
    "U,S,V = np.linalg.svd(matrixC,full_matrices=True)\n",
    "Mul(Matrix(U),Matrix(np.diag(S)),Matrix(V),evaluate=False)"
   ]
  },
  {
   "cell_type": "markdown",
   "metadata": {},
   "source": [
    "## Problem 11"
   ]
  },
  {
   "cell_type": "code",
   "execution_count": 52,
   "metadata": {},
   "outputs": [
    {
     "data": {
      "text/latex": [
       "$$\\left[\\begin{matrix}30.0 & 70.0 & 110.0\\\\70.0 & 174.0 & 278.0\\\\110.0 & 278.0 & 446.0\\end{matrix}\\right]$$"
      ],
      "text/plain": [
       "⎡30.0   70.0   110.0⎤\n",
       "⎢                   ⎥\n",
       "⎢70.0   174.0  278.0⎥\n",
       "⎢                   ⎥\n",
       "⎣110.0  278.0  446.0⎦"
      ]
     },
     "execution_count": 52,
     "metadata": {},
     "output_type": "execute_result"
    }
   ],
   "source": [
    "Matrix(np.round(np.dot(np.dot(U,np.diag(S)),V),1))"
   ]
  },
  {
   "cell_type": "code",
   "execution_count": null,
   "metadata": {},
   "outputs": [],
   "source": []
  }
 ],
 "metadata": {
  "kernelspec": {
   "display_name": "Python 3",
   "language": "python",
   "name": "python3"
  },
  "language_info": {
   "codemirror_mode": {
    "name": "ipython",
    "version": 3
   },
   "file_extension": ".py",
   "mimetype": "text/x-python",
   "name": "python",
   "nbconvert_exporter": "python",
   "pygments_lexer": "ipython3",
   "version": "3.6.7"
  }
 },
 "nbformat": 4,
 "nbformat_minor": 2
}
