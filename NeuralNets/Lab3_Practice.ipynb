{
 "cells": [
  {
   "cell_type": "code",
   "execution_count": 1,
   "metadata": {},
   "outputs": [],
   "source": [
    "import pandas\n",
    "import numpy as np"
   ]
  },
  {
   "cell_type": "markdown",
   "metadata": {},
   "source": [
    "### Create a Single-Layer Net"
   ]
  },
  {
   "cell_type": "code",
   "execution_count": 3,
   "metadata": {},
   "outputs": [],
   "source": [
    "#Load Iris data set (header=None)\n",
    "data = np.array(pandas.read_table(\"https://www.cs.mtsu.edu/~jphillips/courses/CSCI4850-5850/public/iris-data.txt\",\n",
    "    delim_whitespace=True,\n",
    "    header=None))"
   ]
  },
  {
   "cell_type": "code",
   "execution_count": 4,
   "metadata": {},
   "outputs": [
    {
     "name": "stdout",
     "output_type": "stream",
     "text": [
      "(150, 5)\n"
     ]
    }
   ],
   "source": [
    "#shape info\n",
    "print(data.shape)"
   ]
  },
  {
   "cell_type": "code",
   "execution_count": 5,
   "metadata": {},
   "outputs": [
    {
     "data": {
      "text/plain": [
       "array([[5.8, 2.7, 3.9, 1.2, 1. ],\n",
       "       [6.9, 3.1, 5.4, 2.1, 2. ],\n",
       "       [7.7, 3. , 6.1, 2.3, 2. ]])"
      ]
     },
     "execution_count": 5,
     "metadata": {},
     "output_type": "execute_result"
    }
   ],
   "source": [
    "# grab a slice\n",
    "data[0:3,:]"
   ]
  },
  {
   "cell_type": "code",
   "execution_count": 6,
   "metadata": {},
   "outputs": [
    {
     "data": {
      "text/plain": [
       "array([0., 1., 2.])"
      ]
     },
     "execution_count": 6,
     "metadata": {},
     "output_type": "execute_result"
    }
   ],
   "source": [
    "np.unique(data[:,4])"
   ]
  },
  {
   "cell_type": "code",
   "execution_count": 7,
   "metadata": {},
   "outputs": [
    {
     "name": "stdout",
     "output_type": "stream",
     "text": [
      "[4.3 2.  1.  0.1]\n",
      "[7.9 4.4 6.9 2.5]\n"
     ]
    }
   ],
   "source": [
    "print(np.min(data[:,0:4], axis=0))\n",
    "print(np.max(data[:,0:4], axis=0))"
   ]
  },
  {
   "cell_type": "code",
   "execution_count": 8,
   "metadata": {},
   "outputs": [
    {
     "data": {
      "text/plain": [
       "(150, 4)"
      ]
     },
     "execution_count": 8,
     "metadata": {},
     "output_type": "execute_result"
    }
   ],
   "source": [
    "X = data[:,0:4]\n",
    "X.shape"
   ]
  },
  {
   "cell_type": "code",
   "execution_count": 9,
   "metadata": {},
   "outputs": [],
   "source": [
    "# we would like our class labels to represent\n",
    "# a multidimensional vector, currently the labels\n",
    "# are a single scalar\n",
    "## First lets grab the class labels\n",
    "labels = data[:,4]"
   ]
  },
  {
   "cell_type": "code",
   "execution_count": 10,
   "metadata": {},
   "outputs": [
    {
     "name": "stderr",
     "output_type": "stream",
     "text": [
      "Using TensorFlow backend.\n"
     ]
    }
   ],
   "source": [
    "# will need keras/tensorflow to manip\n",
    "import keras"
   ]
  },
  {
   "cell_type": "code",
   "execution_count": 11,
   "metadata": {},
   "outputs": [
    {
     "name": "stdout",
     "output_type": "stream",
     "text": [
      "(150, 3)\n"
     ]
    }
   ],
   "source": [
    "# Convert the integer class labels to a\n",
    "# categorical or \"one-hot\" encoding...\n",
    "Y = keras.utils.to_categorical(labels,\n",
    "len(np.unique(labels)))\n",
    "# Encoded vector size?\n",
    "print(Y.shape)"
   ]
  },
  {
   "cell_type": "code",
   "execution_count": 12,
   "metadata": {},
   "outputs": [
    {
     "name": "stdout",
     "output_type": "stream",
     "text": [
      "0.0\n",
      "[1. 0. 0.]\n",
      "1.0\n",
      "[0. 1. 0.]\n",
      "2.0\n",
      "[0. 0. 1.]\n"
     ]
    }
   ],
   "source": [
    "# Some particular examples...\n",
    "print(labels[4])\n",
    "print(Y[4,:])\n",
    "print(labels[8])\n",
    "print(Y[8,:])\n",
    "print(labels[1])\n",
    "print(Y[1,:])"
   ]
  },
  {
   "cell_type": "code",
   "execution_count": 14,
   "metadata": {},
   "outputs": [],
   "source": [
    "## Setting up a single layer network\n",
    "model = keras.Sequential()"
   ]
  },
  {
   "cell_type": "code",
   "execution_count": 15,
   "metadata": {},
   "outputs": [],
   "source": [
    " # Add a densely connected layer of units\n",
    "# and specify the input layer size (note,\n",
    "# the input layer is assumed to be there,\n",
    "# which makes this a single-layer network!)\n",
    "# Input size - 4\n",
    "input_size = X.shape[1]\n",
    "# Output size - 3\n",
    "output_size = Y.shape[1]\n",
    "# We are using a sigmoid activation\n",
    "# function, AND the input_size was\n",
    "# provided within a python list []...\n",
    "model.add(keras.layers.Dense(output_size,\n",
    "    activation='sigmoid',\n",
    "    input_shape=[input_size]))"
   ]
  },
  {
   "cell_type": "code",
   "execution_count": 16,
   "metadata": {},
   "outputs": [
    {
     "name": "stdout",
     "output_type": "stream",
     "text": [
      "_________________________________________________________________\n",
      "Layer (type)                 Output Shape              Param #   \n",
      "=================================================================\n",
      "dense_1 (Dense)              (None, 3)                 15        \n",
      "=================================================================\n",
      "Total params: 15\n",
      "Trainable params: 15\n",
      "Non-trainable params: 0\n",
      "_________________________________________________________________\n",
      "The history saving thread hit an unexpected error (OperationalError('disk I/O error',)).History will not be written to the database.\n"
     ]
    }
   ],
   "source": [
    "model.summary()"
   ]
  },
  {
   "cell_type": "code",
   "execution_count": 19,
   "metadata": {},
   "outputs": [],
   "source": [
    "# this is a template, we need to compile the net\n",
    "# Prep the model for -learning\n",
    "model.compile(loss=keras.losses.mse,\n",
    "    optimizer=keras.optimizers.SGD(lr=0.001),\n",
    "    metrics=['accuracy'])"
   ]
  },
  {
   "cell_type": "code",
   "execution_count": 20,
   "metadata": {},
   "outputs": [
    {
     "data": {
      "text/plain": [
       "[array([[-0.37146294,  0.8955592 , -0.7124093 ],\n",
       "        [ 0.2902701 , -0.6263571 ,  0.319906  ],\n",
       "        [ 0.64183605,  0.8524325 ,  0.2506107 ],\n",
       "        [-0.07047641, -0.5976385 ,  0.82904005]], dtype=float32),\n",
       " array([0., 0., 0.], dtype=float32)]"
      ]
     },
     "execution_count": 20,
     "metadata": {},
     "output_type": "execute_result"
    }
   ],
   "source": [
    "# Examine the bias and connection weights...\n",
    "model.get_weights()"
   ]
  },
  {
   "cell_type": "markdown",
   "metadata": {},
   "source": [
    "### Doing the above calulations manually"
   ]
  },
  {
   "cell_type": "code",
   "execution_count": 21,
   "metadata": {},
   "outputs": [
    {
     "data": {
      "text/plain": [
       "array([[0.7403586 , 0.9977852 , 0.2148393 ],\n",
       "       [0.8395195 , 0.99949265, 0.30372253],\n",
       "       [0.8536662 , 0.9998555 , 0.25155863],\n",
       "       [0.79650813, 0.9977367 , 0.25853407],\n",
       "       [0.5284946 , 0.9640642 , 0.14904599]], dtype=float32)"
      ]
     },
     "execution_count": 21,
     "metadata": {},
     "output_type": "execute_result"
    }
   ],
   "source": [
    "## manual calculations for network\n",
    "model.predict(X[0:5,:])"
   ]
  },
  {
   "cell_type": "code",
   "execution_count": 22,
   "metadata": {},
   "outputs": [
    {
     "data": {
      "text/plain": [
       "array([[ 1.0478331 ,  6.1104    , -1.2959983 ],\n",
       "       [ 1.6546571 ,  7.5857472 , -0.8296336 ],\n",
       "       [ 1.7636497 ,  8.842005  , -1.0903169 ],\n",
       "       [ 1.3646113 ,  6.088666  , -1.053602  ],\n",
       "       [ 0.11410199,  3.2894237 , -1.7421032 ]], dtype=float32)"
      ]
     },
     "execution_count": 22,
     "metadata": {},
     "output_type": "execute_result"
    }
   ],
   "source": [
    "## Net Inputs - from scratch\\\n",
    "## Weighted-sums + bias\n",
    "output_layer_neti = np.dot(np.float32(X[0:5,:]),model.get_weights()[0])+model.get_weights()[1]\n",
    "output_layer_neti\n"
   ]
  },
  {
   "cell_type": "code",
   "execution_count": 23,
   "metadata": {},
   "outputs": [
    {
     "data": {
      "text/plain": [
       "array([[0.7403586 , 0.9977852 , 0.21483925],\n",
       "       [0.8395195 , 0.99949265, 0.30372256],\n",
       "       [0.8536662 , 0.9998555 , 0.25155863],\n",
       "       [0.79650813, 0.9977367 , 0.258534  ],\n",
       "       [0.5284946 , 0.9640642 , 0.14904599]], dtype=float32)"
      ]
     },
     "execution_count": 23,
     "metadata": {},
     "output_type": "execute_result"
    }
   ],
   "source": [
    " ## Ouput Layer Activations - from scratch\n",
    "## Logistic Sigmoid\n",
    "1.0 / (1.0 + np.exp(-1.0 * output_layer_neti))"
   ]
  },
  {
   "cell_type": "code",
   "execution_count": 24,
   "metadata": {},
   "outputs": [
    {
     "name": "stdout",
     "output_type": "stream",
     "text": [
      "[[-0.37146294  0.8955592  -0.7124093 ]\n",
      " [ 0.2902701  -0.6263571   0.319906  ]\n",
      " [ 0.64183605  0.8524325   0.2506107 ]\n",
      " [-0.07047641 -0.5976385   0.82904005]]\n",
      "[0. 0. 0.]\n"
     ]
    }
   ],
   "source": [
    "## The weight matrix (from input layer to output layer)\n",
    "weights = model.get_weights()[0]\n",
    "## The bias weight vector (output layer)\n",
    "bias_weights = model.get_weights()[1]\n",
    "print(weights)\n",
    "print(bias_weights)"
   ]
  },
  {
   "cell_type": "code",
   "execution_count": 25,
   "metadata": {},
   "outputs": [
    {
     "data": {
      "text/plain": [
       "array([[ 1.0478331,  6.1104   , -1.2959983]], dtype=float32)"
      ]
     },
     "execution_count": 25,
     "metadata": {},
     "output_type": "execute_result"
    }
   ],
   "source": [
    "output_neti = np.dot(np.float32(X[0:1]),weights)+bias_weights\n",
    "output_neti\n"
   ]
  },
  {
   "cell_type": "code",
   "execution_count": 27,
   "metadata": {},
   "outputs": [
    {
     "data": {
      "text/plain": [
       "array([[0.7403586 , 0.9977852 , 0.21483925]], dtype=float32)"
      ]
     },
     "execution_count": 27,
     "metadata": {},
     "output_type": "execute_result"
    }
   ],
   "source": [
    "output_acts = 1.0 / (1.0 + np.exp(-output_neti))\n",
    "output_acts"
   ]
  },
  {
   "cell_type": "code",
   "execution_count": 28,
   "metadata": {},
   "outputs": [
    {
     "data": {
      "text/plain": [
       "array([[0.7403586 , 0.9977852 , 0.21483925]], dtype=float32)"
      ]
     },
     "execution_count": 28,
     "metadata": {},
     "output_type": "execute_result"
    }
   ],
   "source": [
    "model.predict(X[0:1])"
   ]
  },
  {
   "cell_type": "code",
   "execution_count": 29,
   "metadata": {},
   "outputs": [
    {
     "data": {
      "text/plain": [
       "array([[ 0.7403586 , -0.00221479,  0.21483925]], dtype=float32)"
      ]
     },
     "execution_count": 29,
     "metadata": {},
     "output_type": "execute_result"
    }
   ],
   "source": [
    "error = output_acts - np.float32(Y[0:1])\n",
    "error"
   ]
  },
  {
   "cell_type": "code",
   "execution_count": 30,
   "metadata": {},
   "outputs": [
    {
     "data": {
      "text/plain": [
       "array([[0.38445556, 0.00441968, 0.33736664]], dtype=float32)"
      ]
     },
     "execution_count": 30,
     "metadata": {},
     "output_type": "execute_result"
    }
   ],
   "source": [
    "deriv = 2.0 * np.exp(-output_neti) / np.power(1.0+np.exp(-output_neti),2.0)\n",
    "deriv"
   ]
  },
  {
   "cell_type": "code",
   "execution_count": 32,
   "metadata": {},
   "outputs": [
    {
     "data": {
      "text/plain": [
       "array([[ 9.4878331e-02, -3.2628886e-06,  2.4159867e-02]], dtype=float32)"
      ]
     },
     "execution_count": 32,
     "metadata": {},
     "output_type": "execute_result"
    }
   ],
   "source": [
    "## For mean-squared-error loss, the math indicates\n",
    "## to normalize by 1/N where N is the number of\n",
    "## output units across which we are obtaining\n",
    "deltas = error*deriv*(1.0/len(bias_weights))\n",
    "deltas\n"
   ]
  },
  {
   "cell_type": "code",
   "execution_count": 33,
   "metadata": {},
   "outputs": [
    {
     "data": {
      "text/plain": [
       "array([[ 5.5029434e-01, -1.8924755e-05,  1.4012724e-01],\n",
       "       [ 2.5617149e-01, -8.8097995e-06,  6.5231644e-02],\n",
       "       [ 3.7002549e-01, -1.2725266e-05,  9.4223484e-02],\n",
       "       [ 1.1385400e-01, -3.9154666e-06,  2.8991843e-02]], dtype=float32)"
      ]
     },
     "execution_count": 33,
     "metadata": {},
     "output_type": "execute_result"
    }
   ],
   "source": [
    "w_updates = np.outer(np.float32(X[0:1]),deltas)\n",
    "w_updates"
   ]
  },
  {
   "cell_type": "code",
   "execution_count": 34,
   "metadata": {},
   "outputs": [],
   "source": [
    "## Learning rate\n",
    "eta = np.float32(0.001)\n"
   ]
  },
  {
   "cell_type": "code",
   "execution_count": 35,
   "metadata": {},
   "outputs": [
    {
     "data": {
      "text/plain": [
       "array([[-0.37146294,  0.8955592 , -0.7124093 ],\n",
       "       [ 0.2902701 , -0.6263571 ,  0.319906  ],\n",
       "       [ 0.64183605,  0.8524325 ,  0.2506107 ],\n",
       "       [-0.07047641, -0.5976385 ,  0.82904005]], dtype=float32)"
      ]
     },
     "execution_count": 35,
     "metadata": {},
     "output_type": "execute_result"
    }
   ],
   "source": [
    "weights\n"
   ]
  },
  {
   "cell_type": "code",
   "execution_count": 36,
   "metadata": {},
   "outputs": [
    {
     "data": {
      "text/plain": [
       "array([[-0.37201324,  0.8955592 , -0.71254945],\n",
       "       [ 0.2900139 , -0.6263571 ,  0.31984076],\n",
       "       [ 0.641466  ,  0.8524325 ,  0.25051647],\n",
       "       [-0.07059027, -0.5976385 ,  0.8290111 ]], dtype=float32)"
      ]
     },
     "execution_count": 36,
     "metadata": {},
     "output_type": "execute_result"
    }
   ],
   "source": [
    "## Weights after delta-rule update\n",
    "## Subtract to minimize error (gradient descent)\n",
    "weights - eta*w_updates"
   ]
  },
  {
   "cell_type": "code",
   "execution_count": 37,
   "metadata": {},
   "outputs": [
    {
     "data": {
      "text/plain": [
       "array([0., 0., 0.], dtype=float32)"
      ]
     },
     "execution_count": 37,
     "metadata": {},
     "output_type": "execute_result"
    }
   ],
   "source": [
    "bias_weights"
   ]
  },
  {
   "cell_type": "code",
   "execution_count": 38,
   "metadata": {},
   "outputs": [
    {
     "data": {
      "text/plain": [
       "array([[-9.4878334e-05,  3.2628888e-09, -2.4159868e-05]], dtype=float32)"
      ]
     },
     "execution_count": 38,
     "metadata": {},
     "output_type": "execute_result"
    }
   ],
   "source": [
    "## Bias weights after delta-rule update\n",
    "## Subtract to minimize error (gradient descent)\n",
    "bias_weights - eta*deltas\n"
   ]
  },
  {
   "cell_type": "code",
   "execution_count": 39,
   "metadata": {},
   "outputs": [
    {
     "data": {
      "text/plain": [
       "[array([[-0.37201324,  0.8955592 , -0.71254945],\n",
       "        [ 0.2900139 , -0.6263571 ,  0.31984076],\n",
       "        [ 0.641466  ,  0.8524325 ,  0.25051647],\n",
       "        [-0.07059027, -0.5976385 ,  0.8290111 ]], dtype=float32),\n",
       " array([-9.4878320e-05,  3.2629519e-09, -2.4159872e-05], dtype=float32)]"
      ]
     },
     "execution_count": 39,
     "metadata": {},
     "output_type": "execute_result"
    }
   ],
   "source": [
    "history = model.fit(X[0:1],Y[0:1],batch_size=1,epochs=1,verbose=0)\n",
    "model.get_weights()\n"
   ]
  },
  {
   "cell_type": "markdown",
   "metadata": {},
   "source": [
    "### Training the model"
   ]
  },
  {
   "cell_type": "code",
   "execution_count": 40,
   "metadata": {},
   "outputs": [
    {
     "name": "stdout",
     "output_type": "stream",
     "text": [
      "Train on 75 samples, validate on 75 samples\n",
      "Epoch 1/10\n",
      "75/75 [==============================] - 0s 2ms/step - loss: 0.4488 - acc: 0.3200 - val_loss: 0.4452 - val_acc: 0.3467\n",
      "Epoch 2/10\n",
      "75/75 [==============================] - 0s 322us/step - loss: 0.4482 - acc: 0.3200 - val_loss: 0.4446 - val_acc: 0.3467\n",
      "Epoch 3/10\n",
      "75/75 [==============================] - 0s 321us/step - loss: 0.4476 - acc: 0.3200 - val_loss: 0.4439 - val_acc: 0.3467\n",
      "Epoch 4/10\n",
      "75/75 [==============================] - 0s 372us/step - loss: 0.4469 - acc: 0.3200 - val_loss: 0.4432 - val_acc: 0.3467\n",
      "Epoch 5/10\n",
      "75/75 [==============================] - 0s 522us/step - loss: 0.4463 - acc: 0.3200 - val_loss: 0.4425 - val_acc: 0.3467\n",
      "Epoch 6/10\n",
      "75/75 [==============================] - 0s 377us/step - loss: 0.4456 - acc: 0.3200 - val_loss: 0.4418 - val_acc: 0.3467\n",
      "Epoch 7/10\n",
      "75/75 [==============================] - 0s 292us/step - loss: 0.4450 - acc: 0.3200 - val_loss: 0.4411 - val_acc: 0.3467\n",
      "Epoch 8/10\n",
      "75/75 [==============================] - 0s 290us/step - loss: 0.4443 - acc: 0.3200 - val_loss: 0.4404 - val_acc: 0.3467\n",
      "Epoch 9/10\n",
      "75/75 [==============================] - 0s 294us/step - loss: 0.4437 - acc: 0.3200 - val_loss: 0.4398 - val_acc: 0.3467\n",
      "Epoch 10/10\n",
      "75/75 [==============================] - 0s 370us/step - loss: 0.4431 - acc: 0.3200 - val_loss: 0.4390 - val_acc: 0.3467\n"
     ]
    }
   ],
   "source": [
    " # Basic training parameters\n",
    "batch_size = 16\n",
    "epochs = 10\n",
    "validation_split = 0.5\n",
    "# Train the model and record the training\n",
    "# history for later examination\n",
    "history = model.fit(X, Y,\n",
    "batch_size = batch_size,\n",
    "epochs = epochs,\n",
    "verbose = 1,\n",
    "validation_split = validation_split)"
   ]
  },
  {
   "cell_type": "code",
   "execution_count": 41,
   "metadata": {},
   "outputs": [
    {
     "data": {
      "image/png": "[encoded data removed]",
      "text/plain": [
       "<Figure size 432x288 with 2 Axes>"
      ]
     },
     "metadata": {
      "needs_background": "light"
     },
     "output_type": "display_data"
    }
   ],
   "source": [
    "import matplotlib.pyplot as plt\n",
    "%matplotlib inline\n",
    "plt.figure(1)\n",
    "# summarize history for accuracy\n",
    "plt.subplot(211)\n",
    "plt.plot(history.history['acc'])\n",
    "plt.plot(history.history['val_acc'])\n",
    "plt.title('model accuracy')\n",
    "plt.ylabel('accuracy')\n",
    "plt.xlabel('epoch')\n",
    "plt.legend(['train', 'test'], loc='upper left')\n",
    "# summarize history for loss\n",
    "plt.subplot(212)\n",
    "plt.plot(history.history['loss'])\n",
    "plt.plot(history.history['val_loss'])\n",
    "plt.title('model loss')\n",
    "plt.ylabel('loss')\n",
    "plt.xlabel('epoch')\n",
    "plt.legend(['train', 'test'], loc='upper left')\n",
    "plt.tight_layout()\n",
    "plt.show()\n"
   ]
  },
  {
   "cell_type": "code",
   "execution_count": 42,
   "metadata": {},
   "outputs": [
    {
     "name": "stdout",
     "output_type": "stream",
     "text": [
      "150/150 [==============================] - 0s 195us/step\n",
      "Test loss: 0.4408234103520711\n",
      "Test accuracy: 0.33333333253860475\n"
     ]
    }
   ],
   "source": [
    " score = model.evaluate(X, Y, verbose=1)\n",
    "print('Test loss:', score[0])\n",
    "print('Test accuracy:', score[1])"
   ]
  },
  {
   "cell_type": "code",
   "execution_count": null,
   "metadata": {},
   "outputs": [],
   "source": []
  }
 ],
 "metadata": {
  "kernelspec": {
   "display_name": "Python 3",
   "language": "python",
   "name": "python3"
  },
  "language_info": {
   "codemirror_mode": {
    "name": "ipython",
    "version": 3
   },
   "file_extension": ".py",
   "mimetype": "text/x-python",
   "name": "python",
   "nbconvert_exporter": "python",
   "pygments_lexer": "ipython3",
   "version": "3.6.7"
  }
 },
 "nbformat": 4,
 "nbformat_minor": 2
}
