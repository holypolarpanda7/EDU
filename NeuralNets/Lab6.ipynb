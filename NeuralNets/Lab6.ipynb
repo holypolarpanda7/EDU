{
 "cells": [
  {
   "cell_type": "markdown",
   "metadata": {},
   "source": [
    "# Homework"
   ]
  },
  {
   "cell_type": "markdown",
   "metadata": {},
   "source": [
    "## Problem 1\n"
   ]
  },
  {
   "cell_type": "code",
   "execution_count": 12,
   "metadata": {},
   "outputs": [
    {
     "name": "stdout",
     "output_type": "stream",
     "text": [
      "[[1. 0.]\n",
      " [1. 0.]\n",
      " [1. 0.]\n",
      " [1. 0.]\n",
      " [0. 1.]\n",
      " [0. 1.]\n",
      " [1. 0.]\n",
      " [0. 1.]\n",
      " [1. 0.]\n",
      " [0. 1.]]\n"
     ]
    },
    {
     "data": {
      "text/plain": [
       "(100, 100, 100, 3)"
      ]
     },
     "execution_count": 12,
     "metadata": {},
     "output_type": "execute_result"
    }
   ],
   "source": [
    "import keras\n",
    "from keras import backend as K\n",
    "import numpy as np\n",
    "import matplotlib.pyplot as plt\n",
    "from mpl_toolkits.mplot3d import axes3d\n",
    "%matplotlib inline\n",
    "from IPython.display import display\n",
    "from keras.applications.xception import Xception\n",
    "from keras.preprocessing import image\n",
    "from keras.applications.xception import preprocess_input, decode_predictions\n",
    "\n",
    "def grab_image(img_path):\n",
    "    img = image.load_img(img_path, target_size=(100, 100))\n",
    "    x = image.img_to_array(img)\n",
    "    x = np.expand_dims(x, axis=0)\n",
    "    x = preprocess_input(x)\n",
    "    return x\n",
    "X = np.concatenate([grab_image('/nfshome/sandbox/xception_example/images/image_%d.JPEG'%(i)) for i in range(100)])\n",
    "\n",
    "Y = np.loadtxt('/nfshome/sandbox/xception_example/class_labels.csv')\n",
    "Y = keras.utils.to_categorical(Y)\n",
    "\n",
    "# first 10 in Y and X\n",
    "print(Y[0:10,:])\n",
    "X.shape"
   ]
  },
  {
   "cell_type": "code",
   "execution_count": 13,
   "metadata": {},
   "outputs": [
    {
     "name": "stdout",
     "output_type": "stream",
     "text": [
      "_________________________________________________________________\n",
      "Layer (type)                 Output Shape              Param #   \n",
      "=================================================================\n",
      "conv2d_12 (Conv2D)           (None, 96, 96, 25)        1900      \n",
      "_________________________________________________________________\n",
      "conv2d_13 (Conv2D)           (None, 92, 92, 50)        31300     \n",
      "_________________________________________________________________\n",
      "max_pooling2d_6 (MaxPooling2 (None, 18, 18, 50)        0         \n",
      "_________________________________________________________________\n",
      "conv2d_14 (Conv2D)           (None, 14, 14, 75)        93825     \n",
      "_________________________________________________________________\n",
      "conv2d_15 (Conv2D)           (None, 10, 10, 100)       187600    \n",
      "_________________________________________________________________\n",
      "max_pooling2d_7 (MaxPooling2 (None, 2, 2, 100)         0         \n",
      "_________________________________________________________________\n",
      "dropout_6 (Dropout)          (None, 2, 2, 100)         0         \n",
      "_________________________________________________________________\n",
      "flatten_4 (Flatten)          (None, 400)               0         \n",
      "_________________________________________________________________\n",
      "dense_5 (Dense)              (None, 300)               120300    \n",
      "_________________________________________________________________\n",
      "dropout_7 (Dropout)          (None, 300)               0         \n",
      "_________________________________________________________________\n",
      "dense_6 (Dense)              (None, 2)                 602       \n",
      "=================================================================\n",
      "Total params: 435,527\n",
      "Trainable params: 435,527\n",
      "Non-trainable params: 0\n",
      "_________________________________________________________________\n"
     ]
    }
   ],
   "source": [
    "model = keras.Sequential()\n",
    "# Three input channels\n",
    "model.add(keras.layers.Conv2D(25, kernel_size=(5, 5),\n",
    "            activation='relu',\n",
    "            input_shape=[X.shape[1],\n",
    "            X.shape[2],\n",
    "            X.shape[3]]))\n",
    "model.add(keras.layers.Conv2D(50, (5, 5), activation='relu'))\n",
    "model.add(keras.layers.MaxPooling2D(pool_size=(5, 5)))\n",
    "model.add(keras.layers.Conv2D(75, kernel_size=(5, 5), activation='relu'))\n",
    "model.add(keras.layers.Conv2D(100, (5, 5), activation='relu'))\n",
    "model.add(keras.layers.MaxPooling2D(pool_size=(5, 5)))\n",
    "model.add(keras.layers.Dropout(0.25))\n",
    "model.add(keras.layers.Flatten())\n",
    "model.add(keras.layers.Dense(300, activation='relu'))\n",
    "model.add(keras.layers.Dropout(0.5))\n",
    "model.add(keras.layers.Dense(Y.shape[1], activation='softmax'))\n",
    "model.compile(loss=keras.losses.categorical_crossentropy,\n",
    "                optimizer=keras.optimizers.Adam(),\n",
    "                metrics=['accuracy'])\n",
    "\n",
    "model.summary()"
   ]
  },
  {
   "cell_type": "code",
   "execution_count": 18,
   "metadata": {},
   "outputs": [
    {
     "name": "stdout",
     "output_type": "stream",
     "text": [
      "Epoch 1/50\n",
      "100/100 [==============================] - 11s 106ms/step - loss: 0.6578 - acc: 0.6000\n",
      "Epoch 2/50\n",
      "100/100 [==============================] - 10s 103ms/step - loss: 0.6287 - acc: 0.6700\n",
      "Epoch 3/50\n",
      "100/100 [==============================] - 10s 104ms/step - loss: 0.6451 - acc: 0.6400\n",
      "Epoch 4/50\n",
      "100/100 [==============================] - 11s 105ms/step - loss: 0.6221 - acc: 0.6400\n",
      "Epoch 5/50\n",
      "100/100 [==============================] - 10s 96ms/step - loss: 0.6326 - acc: 0.6600\n",
      "Epoch 6/50\n",
      "100/100 [==============================] - 9s 91ms/step - loss: 0.6303 - acc: 0.6100\n",
      "Epoch 7/50\n",
      "100/100 [==============================] - 8s 78ms/step - loss: 0.5937 - acc: 0.6600\n",
      "Epoch 8/50\n",
      "100/100 [==============================] - 8s 76ms/step - loss: 0.5944 - acc: 0.7000\n",
      "Epoch 9/50\n",
      "100/100 [==============================] - 8s 79ms/step - loss: 0.5893 - acc: 0.6600\n",
      "Epoch 10/50\n",
      "100/100 [==============================] - 8s 81ms/step - loss: 0.5428 - acc: 0.7400\n",
      "Epoch 11/50\n",
      "100/100 [==============================] - 8s 80ms/step - loss: 0.5381 - acc: 0.6800\n",
      "Epoch 12/50\n",
      "100/100 [==============================] - 10s 100ms/step - loss: 0.5485 - acc: 0.7300\n",
      "Epoch 13/50\n",
      "100/100 [==============================] - 10s 99ms/step - loss: 0.4495 - acc: 0.8300\n",
      "Epoch 14/50\n",
      "100/100 [==============================] - 9s 94ms/step - loss: 0.4378 - acc: 0.8300\n",
      "Epoch 15/50\n",
      "100/100 [==============================] - 10s 99ms/step - loss: 0.4503 - acc: 0.7300\n",
      "Epoch 16/50\n",
      "100/100 [==============================] - 9s 93ms/step - loss: 0.3681 - acc: 0.8500\n",
      "Epoch 17/50\n",
      "100/100 [==============================] - 10s 97ms/step - loss: 0.3424 - acc: 0.8400\n",
      "Epoch 18/50\n",
      "100/100 [==============================] - 10s 102ms/step - loss: 0.4641 - acc: 0.7800\n",
      "Epoch 19/50\n",
      "100/100 [==============================] - 10s 104ms/step - loss: 0.3181 - acc: 0.8100\n",
      "Epoch 20/50\n",
      "100/100 [==============================] - 10s 99ms/step - loss: 0.3521 - acc: 0.8400\n",
      "Epoch 21/50\n",
      "100/100 [==============================] - 11s 107ms/step - loss: 0.3429 - acc: 0.8600\n",
      "Epoch 22/50\n",
      "100/100 [==============================] - 10s 103ms/step - loss: 0.2770 - acc: 0.9300\n",
      "Epoch 23/50\n",
      "100/100 [==============================] - 9s 94ms/step - loss: 0.2330 - acc: 0.9200\n",
      "Epoch 24/50\n",
      "100/100 [==============================] - 11s 110ms/step - loss: 0.2253 - acc: 0.9400\n",
      "Epoch 25/50\n",
      "100/100 [==============================] - 10s 105ms/step - loss: 0.1652 - acc: 0.9400\n",
      "Epoch 26/50\n",
      "100/100 [==============================] - 10s 97ms/step - loss: 0.1870 - acc: 0.9000\n",
      "Epoch 27/50\n",
      "100/100 [==============================] - 10s 100ms/step - loss: 0.1649 - acc: 0.9300\n",
      "Epoch 28/50\n",
      "100/100 [==============================] - 11s 110ms/step - loss: 0.0972 - acc: 0.9700\n",
      "Epoch 29/50\n",
      "100/100 [==============================] - 11s 107ms/step - loss: 0.0948 - acc: 0.9700\n",
      "Epoch 30/50\n",
      "100/100 [==============================] - 11s 112ms/step - loss: 0.1897 - acc: 0.9500\n",
      "Epoch 31/50\n",
      "100/100 [==============================] - 11s 111ms/step - loss: 0.0666 - acc: 0.9800\n",
      "Epoch 32/50\n",
      "100/100 [==============================] - 11s 113ms/step - loss: 0.1281 - acc: 0.9300\n",
      "Epoch 33/50\n",
      "100/100 [==============================] - 10s 102ms/step - loss: 0.0572 - acc: 0.9900\n",
      "Epoch 34/50\n",
      "100/100 [==============================] - 10s 101ms/step - loss: 0.0853 - acc: 0.9800\n",
      "Epoch 35/50\n",
      "100/100 [==============================] - 9s 91ms/step - loss: 0.0805 - acc: 0.9600\n",
      "Epoch 36/50\n",
      "100/100 [==============================] - 8s 81ms/step - loss: 0.0470 - acc: 0.9900\n",
      "Epoch 37/50\n",
      "100/100 [==============================] - 8s 84ms/step - loss: 0.0299 - acc: 1.0000\n",
      "Epoch 38/50\n",
      "100/100 [==============================] - 9s 85ms/step - loss: 0.0292 - acc: 1.0000\n",
      "Epoch 39/50\n",
      "100/100 [==============================] - 8s 82ms/step - loss: 0.0200 - acc: 1.0000\n",
      "Epoch 40/50\n",
      "100/100 [==============================] - 8s 85ms/step - loss: 0.0103 - acc: 1.0000\n",
      "Epoch 41/50\n",
      "100/100 [==============================] - 7s 74ms/step - loss: 0.0167 - acc: 1.0000\n",
      "Epoch 42/50\n",
      "100/100 [==============================] - 8s 81ms/step - loss: 0.0168 - acc: 1.0000\n",
      "Epoch 43/50\n",
      "100/100 [==============================] - 10s 95ms/step - loss: 0.0067 - acc: 1.0000\n",
      "Epoch 44/50\n",
      "100/100 [==============================] - 10s 98ms/step - loss: 0.0066 - acc: 1.0000\n",
      "Epoch 45/50\n",
      "100/100 [==============================] - 11s 108ms/step - loss: 0.0197 - acc: 0.9900\n",
      "Epoch 46/50\n",
      "100/100 [==============================] - 11s 111ms/step - loss: 0.0115 - acc: 1.0000\n",
      "Epoch 47/50\n",
      "100/100 [==============================] - 11s 110ms/step - loss: 0.0150 - acc: 0.9900\n",
      "Epoch 48/50\n",
      "100/100 [==============================] - 11s 106ms/step - loss: 0.0017 - acc: 1.0000\n",
      "Epoch 49/50\n",
      "100/100 [==============================] - 12s 117ms/step - loss: 0.0328 - acc: 0.9800\n",
      "Epoch 50/50\n",
      "100/100 [==============================] - 11s 106ms/step - loss: 0.0043 - acc: 1.0000\n"
     ]
    }
   ],
   "source": [
    "history = model.fit(X, Y,\n",
    "                    batch_size=60,\n",
    "                    epochs=50,\n",
    "                    verbose=1)"
   ]
  },
  {
   "cell_type": "markdown",
   "metadata": {},
   "source": [
    "## Problem 2"
   ]
  },
  {
   "cell_type": "code",
   "execution_count": 19,
   "metadata": {},
   "outputs": [
    {
     "data": {
      "image/png": "[encoded data removed]",
      "text/plain": [
       "<Figure size 432x288 with 2 Axes>"
      ]
     },
     "metadata": {
      "needs_background": "light"
     },
     "output_type": "display_data"
    }
   ],
   "source": [
    "plt.figure(1)\n",
    "# summarize history for accuracy\n",
    "plt.subplot(211)\n",
    "plt.plot(history.history['acc'])\n",
    "plt.title('model accuracy')\n",
    "plt.ylabel('accuracy')\n",
    "plt.xlabel('epoch')\n",
    "plt.legend(['train', 'test'], loc='upper left')\n",
    "# summarize history for loss\n",
    "plt.subplot(212)\n",
    "plt.plot(history.history['loss'])\n",
    "plt.title('model loss')\n",
    "plt.ylabel('loss')\n",
    "plt.xlabel('epoch')\n",
    "plt.legend(['train', 'test'], loc='upper left')\n",
    "plt.tight_layout()\n",
    "plt.show()"
   ]
  },
  {
   "cell_type": "markdown",
   "metadata": {},
   "source": [
    "### Any sugestions on how to smooth out the activations, they seem to be exploding from time to time?"
   ]
  },
  {
   "cell_type": "markdown",
   "metadata": {},
   "source": [
    "## Problem 3"
   ]
  },
  {
   "cell_type": "code",
   "execution_count": 21,
   "metadata": {},
   "outputs": [],
   "source": [
    "def grab_image2(img_path):\n",
    "    img = image.load_img(img_path, target_size=(299, 299))\n",
    "    x = image.img_to_array(img)\n",
    "    x = np.expand_dims(x, axis=0)\n",
    "    x = preprocess_input(x)\n",
    "    return x\n",
    "X = np.concatenate([grab_image2('/nfshome/sandbox/xception_example/images/image_%d.JPEG'%(i)) for i in range(100)])\n",
    "\n",
    "model = Xception(weights='imagenet')"
   ]
  },
  {
   "cell_type": "code",
   "execution_count": 23,
   "metadata": {},
   "outputs": [
    {
     "name": "stdout",
     "output_type": "stream",
     "text": [
      "Predicted: [[('n01817953', 'African_grey', 0.44841596)], [('n02106550', 'Rottweiler', 0.29953748)], [('n02395406', 'hog', 0.14157927)], [('n02101006', 'Gordon_setter', 0.3929784)], [('n02124075', 'Egyptian_cat', 0.57858574)], [('n02127052', 'lynx', 0.2734335)], [('n02107683', 'Bernese_mountain_dog', 0.97202796)], [('n02123394', 'Persian_cat', 0.55238414)], [('n02093256', 'Staffordshire_bullterrier', 0.4646181)], [('n02123045', 'tabby', 0.27875343)], [('n02123045', 'tabby', 0.24650945)], [('n02124075', 'Egyptian_cat', 0.21868071)], [('n02096585', 'Boston_bull', 0.12376172)], [('n02124075', 'Egyptian_cat', 0.59595346)], [('n02123597', 'Siamese_cat', 0.14436458)], [('n02107312', 'miniature_pinscher', 0.09950582)], [('n02106662', 'German_shepherd', 0.38143304)], [('n02123045', 'tabby', 0.47416684)], [('n04254680', 'soccer_ball', 0.81044906)], [('n03325584', 'feather_boa', 0.72410274)], [('n03793489', 'mouse', 0.10129734)], [('n02106166', 'Border_collie', 0.21694103)], [('n02123045', 'tabby', 0.47728753)], [('n02124075', 'Egyptian_cat', 0.2092936)], [('n02094114', 'Norfolk_terrier', 0.59669524)], [('n01798484', 'prairie_chicken', 0.15475005)], [('n02483708', 'siamang', 0.1112243)], [('n02102318', 'cocker_spaniel', 0.4308291)], [('n02389026', 'sorrel', 0.30680338)], [('n02412080', 'ram', 0.90498567)], [('n02124075', 'Egyptian_cat', 0.2334836)], [('n02107683', 'Bernese_mountain_dog', 0.8547097)], [('n02106662', 'German_shepherd', 0.715216)], [('n02115641', 'dingo', 0.6383798)], [('n02127052', 'lynx', 0.36273015)], [('n02108422', 'bull_mastiff', 0.77218515)], [('n02123159', 'tiger_cat', 0.22414277)], [('n02093428', 'American_Staffordshire_terrier', 0.63561356)], [('n02104365', 'schipperke', 0.9819763)], [('n02123597', 'Siamese_cat', 0.8566159)], [('n02389026', 'sorrel', 0.6204805)], [('n02123159', 'tiger_cat', 0.51447296)], [('n02412080', 'ram', 0.52104795)], [('n02123159', 'tiger_cat', 0.1517899)], [('n02123045', 'tabby', 0.5006593)], [('n04162706', 'seat_belt', 0.11082012)], [('n04192698', 'shield', 0.15820095)], [('n02088364', 'beagle', 0.97183615)], [('n02102318', 'cocker_spaniel', 0.18195891)], [('n02085782', 'Japanese_spaniel', 0.24286935)], [('n02123159', 'tiger_cat', 0.4714363)], [('n02094258', 'Norwich_terrier', 0.65524375)], [('n02123394', 'Persian_cat', 0.68246275)], [('n02123045', 'tabby', 0.85876405)], [('n02110063', 'malamute', 0.2652087)], [('n02403003', 'ox', 0.6199332)], [('n02389026', 'sorrel', 0.14694208)], [('n02110063', 'malamute', 0.7447922)], [('n02102040', 'English_springer', 0.30954808)], [('n02091467', 'Norwegian_elkhound', 0.6104512)], [('n02412080', 'ram', 0.8798945)], [('n02123394', 'Persian_cat', 0.2740574)], [('n04356056', 'sunglasses', 0.054376338)], [('n02403003', 'ox', 0.29880705)], [('n02106166', 'Border_collie', 0.33032617)], [('n02099712', 'Labrador_retriever', 0.257108)], [('n02091134', 'whippet', 0.86798006)], [('n02412080', 'ram', 0.45999435)], [('n02124075', 'Egyptian_cat', 0.5041124)], [('n01819313', 'sulphur-crested_cockatoo', 0.35542944)], [('n02091134', 'whippet', 0.5324655)], [('n02109047', 'Great_Dane', 0.4388573)], [('n02124075', 'Egyptian_cat', 0.8506864)], [('n01514668', 'cock', 0.6471487)], [('n02123045', 'tabby', 0.59283406)], [('n01883070', 'wombat', 0.10532151)], [('n02124075', 'Egyptian_cat', 0.52444744)], [('n02105855', 'Shetland_sheepdog', 0.15868516)], [('n02123597', 'Siamese_cat', 0.12610538)], [('n02364673', 'guinea_pig', 0.8287025)], [('n02423022', 'gazelle', 0.079523444)], [('n02107142', 'Doberman', 0.5051826)], [('n02364673', 'guinea_pig', 0.9069547)], [('n02104365', 'schipperke', 0.6796323)], [('n02094433', 'Yorkshire_terrier', 0.3709225)], [('n02124075', 'Egyptian_cat', 0.82231086)], [('n02138441', 'meerkat', 0.5347435)], [('n02099712', 'Labrador_retriever', 0.60837483)], [('n04553703', 'washbasin', 0.097245276)], [('n02093256', 'Staffordshire_bullterrier', 0.46031827)], [('n02093256', 'Staffordshire_bullterrier', 0.51079863)], [('n02089078', 'black-and-tan_coonhound', 0.3394924)], [('n01855672', 'goose', 0.7124533)], [('n02403003', 'ox', 0.84723496)], [('n02111889', 'Samoyed', 0.6481986)], [('n03223299', 'doormat', 0.3834439)], [('n02085620', 'Chihuahua', 0.18316862)], [('n02087394', 'Rhodesian_ridgeback', 0.9858263)], [('n02113023', 'Pembroke', 0.06799796)], [('n02106030', 'collie', 0.3304855)]]\n"
     ]
    }
   ],
   "source": [
    "preds = model.predict(X[:,:,:,:])\n",
    "# Decode the results into a list of tuples (class, description, probability)\n",
    "# (one such list for each sample in the batch)\n",
    "print('Predicted:', decode_predictions(preds, top=1)[:])"
   ]
  },
  {
   "cell_type": "markdown",
   "metadata": {},
   "source": [
    "### Checking the first 8 it did a decent job"
   ]
  },
  {
   "cell_type": "code",
   "execution_count": null,
   "metadata": {},
   "outputs": [],
   "source": []
  }
 ],
 "metadata": {
  "kernelspec": {
   "display_name": "Python 3",
   "language": "python",
   "name": "python3"
  },
  "language_info": {
   "codemirror_mode": {
    "name": "ipython",
    "version": 3
   },
   "file_extension": ".py",
   "mimetype": "text/x-python",
   "name": "python",
   "nbconvert_exporter": "python",
   "pygments_lexer": "ipython3",
   "version": "3.6.7"
  }
 },
 "nbformat": 4,
 "nbformat_minor": 2
}
