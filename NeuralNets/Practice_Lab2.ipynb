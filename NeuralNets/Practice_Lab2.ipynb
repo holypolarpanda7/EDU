{
 "cells": [
  {
   "cell_type": "code",
   "execution_count": 2,
   "metadata": {},
   "outputs": [],
   "source": [
    "import numpy as np\n",
    "\n",
    "from sympy import *\n",
    "init_printing(use_latex=True)\n",
    "\n",
    "import scipy.spatial.distance as ssd\n",
    "import matplotlib.pyplot as plt\n",
    "%matplotlib inline"
   ]
  },
  {
   "cell_type": "code",
   "execution_count": 3,
   "metadata": {},
   "outputs": [
    {
     "name": "stdout",
     "output_type": "stream",
     "text": [
      "[1 1]\n",
      "[0.5 1.5]\n"
     ]
    }
   ],
   "source": [
    "x = np.array([1,1])\n",
    "print(x)\n",
    "y = np.array([0.5,1.5])\n",
    "print(y)"
   ]
  },
  {
   "cell_type": "code",
   "execution_count": 4,
   "metadata": {},
   "outputs": [
    {
     "data": {
      "image/png": "[encoded data removed]",
      "text/latex": [
       "$$0.7071067811865476$$"
      ],
      "text/plain": [
       "0.7071067811865476"
      ]
     },
     "execution_count": 4,
     "metadata": {},
     "output_type": "execute_result"
    }
   ],
   "source": [
    "np.sqrt(np.sum(pow(x-y,2.0)))"
   ]
  },
  {
   "cell_type": "code",
   "execution_count": 5,
   "metadata": {},
   "outputs": [
    {
     "data": {
      "image/png": "[encoded data removed]",
      "text/latex": [
       "$$0.7071067811865476$$"
      ],
      "text/plain": [
       "0.7071067811865476"
      ]
     },
     "execution_count": 5,
     "metadata": {},
     "output_type": "execute_result"
    }
   ],
   "source": [
    "ssd.euclidean(x,y)"
   ]
  },
  {
   "cell_type": "code",
   "execution_count": 7,
   "metadata": {},
   "outputs": [
    {
     "name": "stdout",
     "output_type": "stream",
     "text": [
      "Euclidean: 0.707107\n",
      "Manhattan: 1.000000\n"
     ]
    }
   ],
   "source": [
    "print('Euclidean: %f'%ssd.minkowski(x,y,2))\n",
    "print('Manhattan: %f'%ssd.minkowski(x,y,1))\n"
   ]
  },
  {
   "cell_type": "code",
   "execution_count": 9,
   "metadata": {},
   "outputs": [
    {
     "data": {
      "image/png": "[encoded data removed]",
      "text/latex": [
       "$$0.8944271909999159$$"
      ],
      "text/plain": [
       "0.8944271909999159"
      ]
     },
     "execution_count": 9,
     "metadata": {},
     "output_type": "execute_result"
    }
   ],
   "source": [
    "np.sum(x*y)/(np.sqrt(np.dot(x,x))*np.sqrt(np.dot(y,y)))"
   ]
  },
  {
   "cell_type": "code",
   "execution_count": 10,
   "metadata": {},
   "outputs": [
    {
     "name": "stdout",
     "output_type": "stream",
     "text": [
      "Cosine similarity: 0.894427\n",
      "Cosine distance: 0.105573\n"
     ]
    }
   ],
   "source": [
    "print('Cosine similarity: %f'%(np.dot(x,y) /\n",
    "(np.sqrt(np.dot(x,x)) * np.sqrt(np.dot(y,y)))))\n",
    "print('Cosine distance: %f'%ssd.cosine(x,y))"
   ]
  },
  {
   "cell_type": "code",
   "execution_count": 11,
   "metadata": {},
   "outputs": [
    {
     "name": "stdout",
     "output_type": "stream",
     "text": [
      "2.0\n",
      "2.0\n"
     ]
    }
   ],
   "source": [
    "print(np.sum(x*y))\n",
    "print(np.dot(x,y))"
   ]
  },
  {
   "cell_type": "code",
   "execution_count": 12,
   "metadata": {},
   "outputs": [
    {
     "data": {
      "text/plain": [
       "array([[1.  , 1.  ],\n",
       "       [0.5 , 1.5 ],\n",
       "       [1.5 , 0.25]])"
      ]
     },
     "execution_count": 12,
     "metadata": {},
     "output_type": "execute_result"
    }
   ],
   "source": [
    "# Make another vector\n",
    "z = np.array([1.5,0.25])\n",
    "# Combine all vectors -by row- to form a matrix\n",
    "data = np.array([x,y,z])\n",
    "data"
   ]
  },
  {
   "cell_type": "code",
   "execution_count": 13,
   "metadata": {},
   "outputs": [
    {
     "data": {
      "text/latex": [
       "$$\\left[\\begin{matrix}1.0 & 1.0\\\\0.5 & 1.5\\\\1.5 & 0.25\\end{matrix}\\right]$$"
      ],
      "text/plain": [
       "⎡1.0  1.0 ⎤\n",
       "⎢         ⎥\n",
       "⎢0.5  1.5 ⎥\n",
       "⎢         ⎥\n",
       "⎣1.5  0.25⎦"
      ]
     },
     "execution_count": 13,
     "metadata": {},
     "output_type": "execute_result"
    }
   ],
   "source": [
    "Matrix(data)"
   ]
  },
  {
   "cell_type": "code",
   "execution_count": 14,
   "metadata": {},
   "outputs": [
    {
     "data": {
      "text/latex": [
       "$$\\left[\\begin{matrix}1\\\\1\\end{matrix}\\right]$$"
      ],
      "text/plain": [
       "⎡1⎤\n",
       "⎢ ⎥\n",
       "⎣1⎦"
      ]
     },
     "execution_count": 14,
     "metadata": {},
     "output_type": "execute_result"
    }
   ],
   "source": [
    "Matrix(x)"
   ]
  },
  {
   "cell_type": "code",
   "execution_count": 15,
   "metadata": {},
   "outputs": [
    {
     "data": {
      "text/latex": [
       "$$\\left[\\begin{matrix}1 & 1\\end{matrix}\\right]$$"
      ],
      "text/plain": [
       "[1  1]"
      ]
     },
     "execution_count": 15,
     "metadata": {},
     "output_type": "execute_result"
    }
   ],
   "source": [
    "Matrix(x).T\n"
   ]
  },
  {
   "cell_type": "code",
   "execution_count": 16,
   "metadata": {},
   "outputs": [
    {
     "data": {
      "text/plain": [
       "array([[0.        , 0.70710678, 0.90138782],\n",
       "       [0.70710678, 0.        , 1.60078106],\n",
       "       [0.90138782, 1.60078106, 0.        ]])"
      ]
     },
     "execution_count": 16,
     "metadata": {},
     "output_type": "execute_result"
    }
   ],
   "source": [
    "ssd.squareform(ssd.pdist(data,metric='euclidean'))"
   ]
  },
  {
   "cell_type": "code",
   "execution_count": 17,
   "metadata": {},
   "outputs": [
    {
     "data": {
      "text/plain": [
       "array([[0.        , 0.70710678, 0.90138782],\n",
       "       [0.70710678, 0.        , 1.60078106],\n",
       "       [0.90138782, 1.60078106, 0.        ]])"
      ]
     },
     "execution_count": 17,
     "metadata": {},
     "output_type": "execute_result"
    }
   ],
   "source": [
    "ssd.squareform(ssd.pdist(data,metric='minkowski',p=2))"
   ]
  },
  {
   "cell_type": "code",
   "execution_count": 18,
   "metadata": {},
   "outputs": [
    {
     "data": {
      "text/plain": [
       "array([[0.  , 1.  , 1.25],\n",
       "       [1.  , 0.  , 2.25],\n",
       "       [1.25, 2.25, 0.  ]])"
      ]
     },
     "execution_count": 18,
     "metadata": {},
     "output_type": "execute_result"
    }
   ],
   "source": [
    "ssd.squareform(ssd.pdist(data,metric='minkowski',p=1))"
   ]
  },
  {
   "cell_type": "code",
   "execution_count": 19,
   "metadata": {},
   "outputs": [
    {
     "data": {
      "text/plain": [
       "array([[0.        , 0.10557281, 0.18626653],\n",
       "       [0.10557281, 0.        , 0.53211228],\n",
       "       [0.18626653, 0.53211228, 0.        ]])"
      ]
     },
     "execution_count": 19,
     "metadata": {},
     "output_type": "execute_result"
    }
   ],
   "source": [
    "ssd.squareform(ssd.pdist(data,metric='cosine'))"
   ]
  },
  {
   "cell_type": "code",
   "execution_count": 20,
   "metadata": {},
   "outputs": [
    {
     "data": {
      "text/latex": [
       "$$\\left[\\begin{matrix}0.0 & 0.105572809000084 & 0.186266528793265\\\\0.105572809000084 & 0.0 & 0.532112279580967\\\\0.186266528793265 & 0.532112279580967 & 0.0\\end{matrix}\\right]$$"
      ],
      "text/plain": [
       "⎡       0.0         0.105572809000084  0.186266528793265⎤\n",
       "⎢                                                       ⎥\n",
       "⎢0.105572809000084         0.0         0.532112279580967⎥\n",
       "⎢                                                       ⎥\n",
       "⎣0.186266528793265  0.532112279580967         0.0       ⎦"
      ]
     },
     "execution_count": 20,
     "metadata": {},
     "output_type": "execute_result"
    }
   ],
   "source": [
    "Matrix(ssd.squareform(ssd.pdist(data,metric='cosine')))"
   ]
  },
  {
   "cell_type": "code",
   "execution_count": 21,
   "metadata": {},
   "outputs": [
    {
     "data": {
      "text/latex": [
       "$$\\left[\\begin{matrix}1.0 & 1.0\\\\0.5 & 1.5\\\\1.5 & 0.25\\end{matrix}\\right] \\left[\\begin{matrix}1\\\\1\\end{matrix}\\right] = \\left[\\begin{matrix}2.0\\\\2.0\\\\1.75\\end{matrix}\\right]$$"
      ],
      "text/plain": [
       "⎡1.0  1.0 ⎤       ⎡2.0 ⎤\n",
       "⎢         ⎥ ⎡1⎤   ⎢    ⎥\n",
       "⎢0.5  1.5 ⎥⋅⎢ ⎥ = ⎢2.0 ⎥\n",
       "⎢         ⎥ ⎣1⎦   ⎢    ⎥\n",
       "⎣1.5  0.25⎦       ⎣1.75⎦"
      ]
     },
     "execution_count": 21,
     "metadata": {},
     "output_type": "execute_result"
    }
   ],
   "source": [
    "Eq(Mul(Matrix(data),Matrix(x),evaluate=False),\n",
    "Matrix(np.dot(data,x)),evaluate=False)"
   ]
  },
  {
   "cell_type": "code",
   "execution_count": 22,
   "metadata": {},
   "outputs": [
    {
     "data": {
      "text/plain": [
       "array([2.  , 2.  , 1.75])"
      ]
     },
     "execution_count": 22,
     "metadata": {},
     "output_type": "execute_result"
    }
   ],
   "source": [
    "np.dot(data,x)"
   ]
  },
  {
   "cell_type": "code",
   "execution_count": 23,
   "metadata": {},
   "outputs": [
    {
     "data": {
      "text/latex": [
       "$$\\left[\\begin{matrix}2.0\\\\2.0\\\\1.75\\end{matrix}\\right]$$"
      ],
      "text/plain": [
       "⎡2.0 ⎤\n",
       "⎢    ⎥\n",
       "⎢2.0 ⎥\n",
       "⎢    ⎥\n",
       "⎣1.75⎦"
      ]
     },
     "execution_count": 23,
     "metadata": {},
     "output_type": "execute_result"
    }
   ],
   "source": [
    "Matrix(np.dot(data,x))"
   ]
  },
  {
   "cell_type": "code",
   "execution_count": 24,
   "metadata": {},
   "outputs": [
    {
     "ename": "ValueError",
     "evalue": "shapes (2,) and (3,2) not aligned: 2 (dim 0) != 3 (dim 0)",
     "output_type": "error",
     "traceback": [
      "\u001b[0;31m---------------------------------------------------------------------------\u001b[0m",
      "\u001b[0;31mValueError\u001b[0m                                Traceback (most recent call last)",
      "\u001b[0;32m<ipython-input-24-3ed90fd0f3fa>\u001b[0m in \u001b[0;36m<module>\u001b[0;34m\u001b[0m\n\u001b[0;32m----> 1\u001b[0;31m \u001b[0mnp\u001b[0m\u001b[0;34m.\u001b[0m\u001b[0mdot\u001b[0m\u001b[0;34m(\u001b[0m\u001b[0mx\u001b[0m\u001b[0;34m,\u001b[0m\u001b[0mdata\u001b[0m\u001b[0;34m)\u001b[0m\u001b[0;34m\u001b[0m\u001b[0;34m\u001b[0m\u001b[0m\n\u001b[0m",
      "\u001b[0;31mValueError\u001b[0m: shapes (2,) and (3,2) not aligned: 2 (dim 0) != 3 (dim 0)"
     ]
    }
   ],
   "source": [
    "np.dot(x,data) #the matrix cannot be computed because the two attempting to be computed are\n",
    "               #are not the proper size"
   ]
  },
  {
   "cell_type": "code",
   "execution_count": 25,
   "metadata": {},
   "outputs": [
    {
     "data": {
      "text/latex": [
       "$$\\left[\\begin{matrix}1.0 & 1.0\\\\0.5 & 1.5\\\\1.5 & 0.25\\end{matrix}\\right] \\left[\\begin{matrix}1.0 & 0.5 & 1.5\\\\1.0 & 1.5 & 0.25\\end{matrix}\\right] = \\left[\\begin{matrix}2.0 & 2.0 & 1.75\\\\2.0 & 2.5 & 1.125\\\\1.75 & 1.125 & 2.3125\\end{matrix}\\right]$$"
      ],
      "text/plain": [
       "⎡1.0  1.0 ⎤                    ⎡2.0    2.0    1.75 ⎤\n",
       "⎢         ⎥ ⎡1.0  0.5  1.5 ⎤   ⎢                   ⎥\n",
       "⎢0.5  1.5 ⎥⋅⎢              ⎥ = ⎢2.0    2.5   1.125 ⎥\n",
       "⎢         ⎥ ⎣1.0  1.5  0.25⎦   ⎢                   ⎥\n",
       "⎣1.5  0.25⎦                    ⎣1.75  1.125  2.3125⎦"
      ]
     },
     "execution_count": 25,
     "metadata": {},
     "output_type": "execute_result"
    }
   ],
   "source": [
    "Eq(Mul(Matrix(data),Matrix(data).T,evaluate=False),\n",
    "Matrix(np.dot(data,data.T)),evaluate=False)"
   ]
  },
  {
   "cell_type": "code",
   "execution_count": 26,
   "metadata": {},
   "outputs": [
    {
     "data": {
      "text/latex": [
       "$$\\left[\\begin{matrix}2.0 & 2.0 & 1.75\\\\2.0 & 2.5 & 1.125\\\\1.75 & 1.125 & 2.3125\\end{matrix}\\right]$$"
      ],
      "text/plain": [
       "⎡2.0    2.0    1.75 ⎤\n",
       "⎢                   ⎥\n",
       "⎢2.0    2.5   1.125 ⎥\n",
       "⎢                   ⎥\n",
       "⎣1.75  1.125  2.3125⎦"
      ]
     },
     "execution_count": 26,
     "metadata": {},
     "output_type": "execute_result"
    }
   ],
   "source": [
    "Matrix(np.dot(data,data.T))"
   ]
  },
  {
   "cell_type": "code",
   "execution_count": 27,
   "metadata": {},
   "outputs": [
    {
     "data": {
      "text/latex": [
       "$$\\left[\\begin{matrix}0.0 & 0.105572809 & 0.186266528793\\\\0.105572809 & 0.0 & 0.532112279581\\\\0.186266528793 & 0.532112279581 & 0.0\\end{matrix}\\right]$$"
      ],
      "text/plain": [
       "⎡     0.0         0.105572809    0.186266528793⎤\n",
       "⎢                                              ⎥\n",
       "⎢ 0.105572809         0.0        0.532112279581⎥\n",
       "⎢                                              ⎥\n",
       "⎣0.186266528793  0.532112279581       0.0      ⎦"
      ]
     },
     "execution_count": 27,
     "metadata": {},
     "output_type": "execute_result"
    }
   ],
   "source": [
    "def mynorm(a_vector):\n",
    "    return np.sqrt(np.dot(a_vector, a_vector))\n",
    "\n",
    "A = np.round(\n",
    "    1.0 - (np.dot(data,data.T) / np.dot(\n",
    "    np.reshape(np.apply_along_axis(mynorm,1,data),[3,1]),\n",
    "    np.reshape(np.apply_along_axis(mynorm,1,data),[1,3]))),12)\n",
    "Matrix(A)"
   ]
  },
  {
   "cell_type": "code",
   "execution_count": 28,
   "metadata": {},
   "outputs": [
    {
     "data": {
      "text/latex": [
       "$$\\left[\\begin{matrix}0.325098539559343 & 0.938831137274348 & -0.113609133702079\\\\0.657042235063221 & -0.310640328350735 & -0.686875598449439\\\\0.680151777855141 & -0.148656254783652 & 0.717840425856742\\end{matrix}\\right] \\left[\\begin{matrix}0.603064244356408 & 0.0 & 0.0\\\\0.0 & -0.064425703636322 & 0.0\\\\0.0 & 0.0 & -0.538638540720086\\end{matrix}\\right] \\left[\\begin{matrix}0.325098539559343 & 0.657042235063221 & 0.680151777855141\\\\0.938831137274348 & -0.310640328350735 & -0.148656254783652\\\\-0.113609133702079 & -0.686875598449439 & 0.717840425856742\\end{matrix}\\right]$$"
      ],
      "text/plain": [
       "⎡0.325098539559343  0.938831137274348   -0.113609133702079⎤ ⎡0.603064244356408\n",
       "⎢                                                         ⎥ ⎢                 \n",
       "⎢0.657042235063221  -0.310640328350735  -0.686875598449439⎥⋅⎢       0.0       \n",
       "⎢                                                         ⎥ ⎢                 \n",
       "⎣0.680151777855141  -0.148656254783652  0.717840425856742 ⎦ ⎣       0.0       \n",
       "\n",
       "         0.0                 0.0        ⎤ ⎡0.325098539559343   0.6570422350632\n",
       "                                        ⎥ ⎢                                   \n",
       "  -0.064425703636322         0.0        ⎥⋅⎢0.938831137274348   -0.310640328350\n",
       "                                        ⎥ ⎢                                   \n",
       "         0.0          -0.538638540720086⎦ ⎣-0.113609133702079  -0.686875598449\n",
       "\n",
       "21   0.680151777855141 ⎤\n",
       "                       ⎥\n",
       "735  -0.148656254783652⎥\n",
       "                       ⎥\n",
       "439  0.717840425856742 ⎦"
      ]
     },
     "execution_count": 28,
     "metadata": {},
     "output_type": "execute_result"
    }
   ],
   "source": [
    "L,Q = np.linalg.eig(A)\n",
    "\n",
    "Mul(Matrix(Q),Matrix(np.diag(L)), Matrix(Q).T,evaluate = False)"
   ]
  },
  {
   "cell_type": "code",
   "execution_count": 30,
   "metadata": {},
   "outputs": [
    {
     "data": {
      "text/latex": [
       "$$\\left[\\begin{matrix}0.0 & 0.105572809 & 0.186266528793\\\\0.105572809 & 0.0 & 0.532112279581\\\\0.186266528793 & 0.532112279581 & 0.0\\end{matrix}\\right]$$"
      ],
      "text/plain": [
       "⎡     0.0         0.105572809    0.186266528793⎤\n",
       "⎢                                              ⎥\n",
       "⎢ 0.105572809         0.0        0.532112279581⎥\n",
       "⎢                                              ⎥\n",
       "⎣0.186266528793  0.532112279581       0.0      ⎦"
      ]
     },
     "execution_count": 30,
     "metadata": {},
     "output_type": "execute_result"
    }
   ],
   "source": [
    "Matrix(np.round(np.dot(np.dot(Q,np.diag(L)),Q.T),12))"
   ]
  },
  {
   "cell_type": "code",
   "execution_count": 31,
   "metadata": {},
   "outputs": [
    {
     "data": {
      "text/latex": [
       "$$\\left[\\begin{matrix}0.325098539559343 & -0.113609133702079 & 0.938831137274348\\\\0.657042235063221 & -0.686875598449439 & -0.310640328350735\\\\0.680151777855141 & 0.717840425856742 & -0.148656254783652\\end{matrix}\\right] \\left[\\begin{matrix}0.603064244356408 & 0.0 & 0.0\\\\0.0 & 0.538638540720086 & 0.0\\\\0.0 & 0.0 & 0.0644257036363219\\end{matrix}\\right] \\left[\\begin{matrix}0.325098539559343 & 0.657042235063221 & 0.680151777855141\\\\0.113609133702079 & 0.686875598449439 & -0.717840425856741\\\\-0.938831137274348 & 0.310640328350735 & 0.148656254783653\\end{matrix}\\right]$$"
      ],
      "text/plain": [
       "⎡0.325098539559343  -0.113609133702079  0.938831137274348 ⎤ ⎡0.603064244356408\n",
       "⎢                                                         ⎥ ⎢                 \n",
       "⎢0.657042235063221  -0.686875598449439  -0.310640328350735⎥⋅⎢       0.0       \n",
       "⎢                                                         ⎥ ⎢                 \n",
       "⎣0.680151777855141  0.717840425856742   -0.148656254783652⎦ ⎣       0.0       \n",
       "\n",
       "         0.0                0.0        ⎤ ⎡0.325098539559343   0.65704223506322\n",
       "                                       ⎥ ⎢                                    \n",
       "  0.538638540720086         0.0        ⎥⋅⎢0.113609133702079   0.68687559844943\n",
       "                                       ⎥ ⎢                                    \n",
       "         0.0         0.0644257036363219⎦ ⎣-0.938831137274348  0.31064032835073\n",
       "\n",
       "1  0.680151777855141 ⎤\n",
       "                     ⎥\n",
       "9  -0.717840425856741⎥\n",
       "                     ⎥\n",
       "5  0.148656254783653 ⎦"
      ]
     },
     "execution_count": 31,
     "metadata": {},
     "output_type": "execute_result"
    }
   ],
   "source": [
    "U,S,V = np.linalg.svd(A,full_matrices=True)\n",
    "Mul(Matrix(U),Matrix(np.diag(S)),Matrix(V),evaluate=False)"
   ]
  },
  {
   "cell_type": "code",
   "execution_count": 32,
   "metadata": {},
   "outputs": [
    {
     "data": {
      "text/latex": [
       "$$\\left[\\begin{matrix}0.0 & 0.105572809 & 0.186266528793\\\\0.105572809 & 0.0 & 0.532112279581\\\\0.186266528793 & 0.532112279581 & 0.0\\end{matrix}\\right]$$"
      ],
      "text/plain": [
       "⎡     0.0         0.105572809    0.186266528793⎤\n",
       "⎢                                              ⎥\n",
       "⎢ 0.105572809         0.0        0.532112279581⎥\n",
       "⎢                                              ⎥\n",
       "⎣0.186266528793  0.532112279581       0.0      ⎦"
      ]
     },
     "execution_count": 32,
     "metadata": {},
     "output_type": "execute_result"
    }
   ],
   "source": [
    "Matrix(np.round(np.dot(np.dot(U,np.diag(S)),V),12))"
   ]
  },
  {
   "cell_type": "code",
   "execution_count": null,
   "metadata": {},
   "outputs": [],
   "source": []
  }
 ],
 "metadata": {
  "kernelspec": {
   "display_name": "Python 3",
   "language": "python",
   "name": "python3"
  },
  "language_info": {
   "codemirror_mode": {
    "name": "ipython",
    "version": 3
   },
   "file_extension": ".py",
   "mimetype": "text/x-python",
   "name": "python",
   "nbconvert_exporter": "python",
   "pygments_lexer": "ipython3",
   "version": "3.6.7"
  }
 },
 "nbformat": 4,
 "nbformat_minor": 2
}
