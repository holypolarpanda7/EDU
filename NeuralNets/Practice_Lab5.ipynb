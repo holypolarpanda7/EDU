{
 "cells": [
  {
   "cell_type": "code",
   "execution_count": 1,
   "metadata": {},
   "outputs": [
    {
     "name": "stderr",
     "output_type": "stream",
     "text": [
      "Using TensorFlow backend.\n"
     ]
    }
   ],
   "source": [
    "# NN-Tools\n",
    "import numpy as np\n",
    "import keras\n",
    "# Visualization\n",
    "from IPython.display import SVG\n",
    "from IPython.display import display\n",
    "from keras.utils.vis_utils import model_to_dot\n",
    "from keras.utils import plot_model\n",
    "# Printing\n",
    "from sympy import *\n",
    "init_printing(use_latex=True)\n",
    "# Plotting\n",
    "import matplotlib.pyplot as plt\n",
    "%matplotlib inline"
   ]
  },
  {
   "cell_type": "code",
   "execution_count": 2,
   "metadata": {},
   "outputs": [
    {
     "data": {
      "text/latex": [
       "$$\\left[\\begin{matrix}-1 & -1\\\\-1 & 1\\\\1 & -1\\\\1 & 1\\end{matrix}\\right]$$"
      ],
      "text/plain": [
       "⎡-1  -1⎤\n",
       "⎢      ⎥\n",
       "⎢-1  1 ⎥\n",
       "⎢      ⎥\n",
       "⎢1   -1⎥\n",
       "⎢      ⎥\n",
       "⎣1   1 ⎦"
      ]
     },
     "metadata": {},
     "output_type": "display_data"
    },
    {
     "data": {
      "text/latex": [
       "$$\\left[\\begin{matrix}0\\\\1\\\\1\\\\0\\end{matrix}\\right]$$"
      ],
      "text/plain": [
       "⎡0⎤\n",
       "⎢ ⎥\n",
       "⎢1⎥\n",
       "⎢ ⎥\n",
       "⎢1⎥\n",
       "⎢ ⎥\n",
       "⎣0⎦"
      ]
     },
     "metadata": {},
     "output_type": "display_data"
    }
   ],
   "source": [
    "# XOR data set\n",
    "X = np.array([[-1,-1],[-1,1],[1,-1],[1,1]])\n",
    "display(Matrix(X))\n",
    "Y = np.array([0,1,1,0])\n",
    "display(Matrix(Y))"
   ]
  },
  {
   "cell_type": "code",
   "execution_count": 3,
   "metadata": {},
   "outputs": [
    {
     "name": "stdout",
     "output_type": "stream",
     "text": [
      "_________________________________________________________________\n",
      "Layer (type)                 Output Shape              Param #   \n",
      "=================================================================\n",
      "dense_1 (Dense)              (None, 2)                 6         \n",
      "_________________________________________________________________\n",
      "dense_2 (Dense)              (None, 1)                 3         \n",
      "=================================================================\n",
      "Total params: 9\n",
      "Trainable params: 9\n",
      "Non-trainable params: 0\n",
      "_________________________________________________________________\n",
      "None\n"
     ]
    }
   ],
   "source": [
    "# Multi-layer net with tanh hidden layer\n",
    "# Start a new, empty model\n",
    "model = keras.models.Sequential()\n",
    "# Create the hidden layer (size 2), but also ensure it is\n",
    "# densely connected to an input layer of size 2 (input_dim=2).\n",
    "# These are then added to the model...\n",
    "model.add(keras.layers.Dense(2,input_dim=2,activation='tanh'))\n",
    "# Add another densely connected layer, our output layer,\n",
    "# which is assumed to be connected to the -previous layer-\n",
    "# added to the model (the hidden layer in our case).\n",
    "model.add(keras.layers.Dense(1,activation='sigmoid'))\n",
    "# Compile it and use the correct loss function (BCE) and\n",
    "# a good optimizer (to avoid slow convergence when possible).\n",
    "model.compile(loss='binary_crossentropy',optimizer='adam')\n",
    "# Print the resulting model to observe its structure and\n",
    "# number of parameters.\n",
    "print(model.summary())"
   ]
  },
  {
   "cell_type": "code",
   "execution_count": 4,
   "metadata": {},
   "outputs": [
    {
     "name": "stdout",
     "output_type": "stream",
     "text": [
      "The history saving thread hit an unexpected error (OperationalError('disk I/O error',)).History will not be written to the database.\n"
     ]
    },
    {
     "data": {
      "text/latex": [
       "$$\\left[\\begin{matrix}-0.0376374 & 0.213883\\\\-0.0296662 & -0.883078\\end{matrix}\\right]$$"
      ],
      "text/plain": [
       "⎡-0.0376374  0.213883 ⎤\n",
       "⎢                     ⎥\n",
       "⎣-0.0296662  -0.883078⎦"
      ]
     },
     "metadata": {},
     "output_type": "display_data"
    },
    {
     "data": {
      "text/latex": [
       "$$\\left[\\begin{matrix}0.0\\\\0.0\\end{matrix}\\right]$$"
      ],
      "text/plain": [
       "⎡0.0⎤\n",
       "⎢   ⎥\n",
       "⎣0.0⎦"
      ]
     },
     "metadata": {},
     "output_type": "display_data"
    },
    {
     "data": {
      "text/latex": [
       "$$\\left[\\begin{matrix}-0.434261\\\\-0.263874\\end{matrix}\\right]$$"
      ],
      "text/plain": [
       "⎡-0.434261⎤\n",
       "⎢         ⎥\n",
       "⎣-0.263874⎦"
      ]
     },
     "metadata": {},
     "output_type": "display_data"
    },
    {
     "data": {
      "text/latex": [
       "$$\\left[\\begin{matrix}0.0\\end{matrix}\\right]$$"
      ],
      "text/plain": [
       "[0.0]"
      ]
     },
     "metadata": {},
     "output_type": "display_data"
    }
   ],
   "source": [
    "# Print the weights!\n",
    "for i in model.get_weights():\n",
    "    display(Matrix(i))"
   ]
  },
  {
   "cell_type": "code",
   "execution_count": 5,
   "metadata": {},
   "outputs": [
    {
     "data": {
      "image/svg+xml": [
       "<svg height=\"191pt\" viewBox=\"0.00 0.00 126.00 191.00\" width=\"126pt\" xmlns=\"http://www.w3.org/2000/svg\" xmlns:xlink=\"http://www.w3.org/1999/xlink\">\n",
       "<g class=\"graph\" id=\"graph0\" transform=\"scale(1 1) rotate(0) translate(4 187)\">\n",
       "<title>G</title>\n",
       "<polygon fill=\"white\" points=\"-4,4 -4,-187 122,-187 122,4 -4,4\" stroke=\"none\"/>\n",
       "<!-- 140718984855680 -->\n",
       "<g class=\"node\" id=\"node1\"><title>140718984855680</title>\n",
       "<polygon fill=\"none\" points=\"8,-73.5 8,-109.5 110,-109.5 110,-73.5 8,-73.5\" stroke=\"black\"/>\n",
       "<text font-family=\"Times,serif\" font-size=\"14.00\" text-anchor=\"middle\" x=\"59\" y=\"-87.8\">dense_1: Dense</text>\n",
       "</g>\n",
       "<!-- 140719378461584 -->\n",
       "<g class=\"node\" id=\"node2\"><title>140719378461584</title>\n",
       "<polygon fill=\"none\" points=\"8,-0.5 8,-36.5 110,-36.5 110,-0.5 8,-0.5\" stroke=\"black\"/>\n",
       "<text font-family=\"Times,serif\" font-size=\"14.00\" text-anchor=\"middle\" x=\"59\" y=\"-14.8\">dense_2: Dense</text>\n",
       "</g>\n",
       "<!-- 140718984855680&#45;&gt;140719378461584 -->\n",
       "<g class=\"edge\" id=\"edge2\"><title>140718984855680-&gt;140719378461584</title>\n",
       "<path d=\"M59,-73.3129C59,-65.2895 59,-55.5475 59,-46.5691\" fill=\"none\" stroke=\"black\"/>\n",
       "<polygon fill=\"black\" points=\"62.5001,-46.5288 59,-36.5288 55.5001,-46.5289 62.5001,-46.5288\" stroke=\"black\"/>\n",
       "</g>\n",
       "<!-- 140718984856968 -->\n",
       "<g class=\"node\" id=\"node3\"><title>140718984856968</title>\n",
       "<polygon fill=\"none\" points=\"0,-146.5 0,-182.5 118,-182.5 118,-146.5 0,-146.5\" stroke=\"black\"/>\n",
       "<text font-family=\"Times,serif\" font-size=\"14.00\" text-anchor=\"middle\" x=\"59\" y=\"-160.8\">140718984856968</text>\n",
       "</g>\n",
       "<!-- 140718984856968&#45;&gt;140718984855680 -->\n",
       "<g class=\"edge\" id=\"edge1\"><title>140718984856968-&gt;140718984855680</title>\n",
       "<path d=\"M59,-146.313C59,-138.289 59,-128.547 59,-119.569\" fill=\"none\" stroke=\"black\"/>\n",
       "<polygon fill=\"black\" points=\"62.5001,-119.529 59,-109.529 55.5001,-119.529 62.5001,-119.529\" stroke=\"black\"/>\n",
       "</g>\n",
       "</g>\n",
       "</svg>"
      ],
      "text/plain": [
       "<IPython.core.display.SVG object>"
      ]
     },
     "execution_count": 5,
     "metadata": {},
     "output_type": "execute_result"
    }
   ],
   "source": [
    "SVG(model_to_dot(model).create(prog='dot', format='svg'))"
   ]
  },
  {
   "cell_type": "code",
   "execution_count": 6,
   "metadata": {},
   "outputs": [
    {
     "data": {
      "image/png": "[encoded data removed]",
      "text/plain": [
       "<Figure size 432x288 with 1 Axes>"
      ]
     },
     "metadata": {
      "needs_background": "light"
     },
     "output_type": "display_data"
    }
   ],
   "source": [
    "# Sample plot of classification space\n",
    "xpoints = np.linspace(-2,2,20)\n",
    "ypoints = np.linspace(-2,2,20)\n",
    "xgrid, ygrid = np.meshgrid(xpoints,ypoints)\n",
    "positions = np.vstack([xgrid.ravel(),ygrid.ravel()]).T\n",
    "# Green grid points where we will evaluate the network\n",
    "# outputs.\n",
    "plt.plot(positions[:,0],positions[:,1],'go')\n",
    "# Color the zero-expected outputs red\n",
    "plt.plot(X[[0,3],0],X[[0,3],1],'ro',markersize=10)\n",
    "# Color the one-expected outputs blue\n",
    "plt.plot(X[[1,2],0],X[[1,2],1],'bo',markersize=10)\n",
    "plt.show()"
   ]
  },
  {
   "cell_type": "code",
   "execution_count": 7,
   "metadata": {},
   "outputs": [
    {
     "data": {
      "image/png": "[encoded data removed]",
      "text/plain": [
       "<Figure size 432x288 with 1 Axes>"
      ]
     },
     "metadata": {
      "needs_background": "light"
     },
     "output_type": "display_data"
    }
   ],
   "source": [
    "# Let's color those points by the classification labels...\n",
    "predictions = model.predict_classes(positions)[:,0]\n",
    "zeros = positions[predictions==0,:]\n",
    "ones = positions[predictions==1,:]\n",
    "# Color predictions by class\n",
    "plt.plot(zeros[:,0],zeros[:,1],'ro')\n",
    "plt.plot(ones[:,0],ones[:,1],'bo')\n",
    "# Color the zero-expected outputs red\n",
    "plt.plot(X[[0,3],0],X[[0,3],1],'ro',markersize=10)\n",
    "# Color the one-expected outputs blue\n",
    "plt.plot(X[[1,2],0],X[[1,2],1],'bo',markersize=10)\n",
    "plt.show()\n"
   ]
  },
  {
   "cell_type": "code",
   "execution_count": 8,
   "metadata": {},
   "outputs": [],
   "source": [
    "# Train it!\n",
    "history = model.fit(X, Y,\n",
    "    batch_size=1,\n",
    "    epochs=3000,\n",
    "    verbose=0)"
   ]
  },
  {
   "cell_type": "code",
   "execution_count": 9,
   "metadata": {},
   "outputs": [
    {
     "data": {
      "image/png": "[encoded data removed]",
      "text/plain": [
       "<Figure size 432x288 with 1 Axes>"
      ]
     },
     "metadata": {
      "needs_background": "light"
     },
     "output_type": "display_data"
    }
   ],
   "source": [
    "# summarize history for loss\n",
    "plt.plot(history.history['loss'])\n",
    "plt.title('model loss')\n",
    "plt.ylabel('loss')\n",
    "plt.xlabel('epoch')\n",
    "plt.legend(['train'], loc='upper left')\n",
    "plt.show()\n"
   ]
  },
  {
   "cell_type": "code",
   "execution_count": 10,
   "metadata": {},
   "outputs": [
    {
     "data": {
      "image/png": "[encoded data removed]",
      "text/plain": [
       "<Figure size 432x288 with 1 Axes>"
      ]
     },
     "metadata": {
      "needs_background": "light"
     },
     "output_type": "display_data"
    }
   ],
   "source": [
    "# Let's color those points by the classification labels...\n",
    "predictions = model.predict_classes(positions)[:,0]\n",
    "zeros = positions[predictions==0,:]\n",
    "ones = positions[predictions==1,:]\n",
    "\n",
    "# Color predictions by class\n",
    "plt.plot(zeros[:,0],zeros[:,1],'ro')\n",
    "plt.plot(ones[:,0],ones[:,1],'bo')\n",
    "\n",
    "# Color the zero-expected outputs red\n",
    "plt.plot(X[[0,3],0],X[[0,3],1],'ro',markersize=10)\n",
    "\n",
    "# Color the one-expected outputs blue\n",
    "plt.plot(X[[1,2],0],X[[1,2],1],'bo',markersize=10)\n",
    "plt.show()"
   ]
  },
  {
   "cell_type": "code",
   "execution_count": 11,
   "metadata": {},
   "outputs": [
    {
     "name": "stdout",
     "output_type": "stream",
     "text": [
      "_________________________________________________________________\n",
      "Layer (type)                 Output Shape              Param #   \n",
      "=================================================================\n",
      "dense_3 (Dense)              (None, 2)                 6         \n",
      "_________________________________________________________________\n",
      "dense_4 (Dense)              (None, 1)                 3         \n",
      "=================================================================\n",
      "Total params: 9\n",
      "Trainable params: 9\n",
      "Non-trainable params: 0\n",
      "_________________________________________________________________\n",
      "None\n"
     ]
    }
   ],
   "source": [
    "# Multi-layer net with ReLU hidden layer\n",
    "model = keras.models.Sequential()\n",
    "\n",
    "# Here we make the hidden layer (size 2) with a ReL\n",
    "# activation function, but also initialize the bias\n",
    "# weights in the network to a constant 0.1\n",
    "model.add(keras.layers.Dense(2,input_dim=2,activation='relu',\n",
    "    bias_initializer=keras.initializers.Constant(0.1)))\n",
    "\n",
    "# Output layer (size 1), sigmoid activation function\n",
    "model.add(keras.layers.Dense(1,activation='sigmoid'))\n",
    "\n",
    "# Compile as above (default learning rate and other\n",
    "# hyperparameters for the Adam optimizer).\n",
    "model.compile(loss='binary_crossentropy',optimizer='adam')\n",
    "\n",
    "# Display the model\n",
    "print(model.summary())"
   ]
  },
  {
   "cell_type": "code",
   "execution_count": 12,
   "metadata": {},
   "outputs": [
    {
     "data": {
      "text/latex": [
       "$$\\left[\\begin{matrix}-0.812319 & 0.700097\\\\0.072053 & 0.0966244\\end{matrix}\\right]$$"
      ],
      "text/plain": [
       "⎡-0.812319  0.700097 ⎤\n",
       "⎢                    ⎥\n",
       "⎣0.072053   0.0966244⎦"
      ]
     },
     "metadata": {},
     "output_type": "display_data"
    },
    {
     "data": {
      "text/latex": [
       "$$\\left[\\begin{matrix}0.1\\\\0.1\\end{matrix}\\right]$$"
      ],
      "text/plain": [
       "⎡0.1⎤\n",
       "⎢   ⎥\n",
       "⎣0.1⎦"
      ]
     },
     "metadata": {},
     "output_type": "display_data"
    },
    {
     "data": {
      "text/latex": [
       "$$\\left[\\begin{matrix}-0.547959\\\\-0.0239198\\end{matrix}\\right]$$"
      ],
      "text/plain": [
       "⎡-0.547959 ⎤\n",
       "⎢          ⎥\n",
       "⎣-0.0239198⎦"
      ]
     },
     "metadata": {},
     "output_type": "display_data"
    },
    {
     "data": {
      "text/latex": [
       "$$\\left[\\begin{matrix}0.0\\end{matrix}\\right]$$"
      ],
      "text/plain": [
       "[0.0]"
      ]
     },
     "metadata": {},
     "output_type": "display_data"
    }
   ],
   "source": [
    "for i in model.get_weights():\n",
    "    display(Matrix(i))"
   ]
  },
  {
   "cell_type": "code",
   "execution_count": 13,
   "metadata": {},
   "outputs": [
    {
     "data": {
      "image/png": "[encoded data removed]",
      "text/plain": [
       "<Figure size 432x288 with 1 Axes>"
      ]
     },
     "metadata": {
      "needs_background": "light"
     },
     "output_type": "display_data"
    }
   ],
   "source": [
    "# Let's color those points by the classification labels...\n",
    "predictions = model.predict_classes(positions)[:,0]\n",
    "zeros = positions[predictions==0,:]\n",
    "ones = positions[predictions==1,:]\n",
    "\n",
    "# Color predictions by class\n",
    "plt.plot(zeros[:,0],zeros[:,1],'ro')\n",
    "plt.plot(ones[:,0],ones[:,1],'bo')\n",
    "\n",
    "# Color the zero-expected outputs red\n",
    "plt.plot(X[[0,3],0],X[[0,3],1],'ro',markersize=10)\n",
    "\n",
    "# Color the one-expected outputs blue\n",
    "plt.plot(X[[1,2],0],X[[1,2],1],'bo',markersize=10)\n",
    "\n",
    "plt.show()"
   ]
  },
  {
   "cell_type": "code",
   "execution_count": null,
   "metadata": {},
   "outputs": [],
   "source": [
    "history = model.fit(X,Y,\n",
    "                   batch_size = 1,\n",
    "                   epochs = 1000,\n",
    "                   verbose =0)"
   ]
  },
  {
   "cell_type": "code",
   "execution_count": 109,
   "metadata": {},
   "outputs": [
    {
     "data": {
      "image/png": "[encoded data removed]",
      "text/plain": [
       "<Figure size 432x288 with 1 Axes>"
      ]
     },
     "metadata": {
      "needs_background": "light"
     },
     "output_type": "display_data"
    }
   ],
   "source": [
    "# summarize history for loss\n",
    "plt.plot(history.history['loss'])\n",
    "plt.title('model loss')\n",
    "plt.ylabel('loss')\n",
    "plt.xlabel('epoch')\n",
    "plt.legend(['train'], loc='upper left')\n",
    "plt.show()"
   ]
  },
  {
   "cell_type": "code",
   "execution_count": 110,
   "metadata": {},
   "outputs": [
    {
     "data": {
      "image/png": "[encoded data removed]",
      "text/plain": [
       "<Figure size 432x288 with 1 Axes>"
      ]
     },
     "metadata": {
      "needs_background": "light"
     },
     "output_type": "display_data"
    }
   ],
   "source": [
    "# Let's color those points by the classification labels...\n",
    "predictions = model.predict_classes(positions)[:,0]\n",
    "zeros = positions[predictions==0,:]\n",
    "ones = positions[predictions==1,:]\n",
    "# Color predictions by class\n",
    "plt.plot(zeros[:,0],zeros[:,1],'ro')\n",
    "plt.plot(ones[:,0],ones[:,1],'bo')\n",
    "# Color the zero-expected outputs red\n",
    "plt.plot(X[[0,3],0],X[[0,3],1],'ro',markersize=10)\n",
    "# Color the one-expected outputs blue\n",
    "plt.plot(X[[1,2],0],X[[1,2],1],'bo',markersize=10)\n",
    "plt.show()"
   ]
  },
  {
   "cell_type": "code",
   "execution_count": 92,
   "metadata": {},
   "outputs": [
    {
     "name": "stdout",
     "output_type": "stream",
     "text": [
      "x_train shape: (60000, 784)\n",
      "y_train shape: (60000, 10)\n",
      "60000 train samples\n",
      "10000 test samples\n"
     ]
    }
   ],
   "source": [
    "from keras.datasets import mnist\n",
    "# Digits are zero through nine, so 10 classes\n",
    "num_classes = 10\n",
    "# input image dimensions\n",
    "img_rows, img_cols = 28, 28\n",
    "# the data, shuffled and split between train and test sets\n",
    "(x_train, y_train), (x_test, y_test) = mnist.load_data()\n",
    "x_train = x_train.reshape(x_train.shape[0], img_rows * img_cols)\n",
    "x_test = x_test.reshape(x_test.shape[0], img_rows * img_cols)\n",
    "# Data normalization (0-255 is encoded as 0-1 instead)\n",
    "x_train = x_train.astype('float32')\n",
    "x_test = x_test.astype('float32')\n",
    "x_train /= 255.0\n",
    "x_test /= 255.0\n",
    "# Convert class vectors to binary class matrices\n",
    "y_train = keras.utils.to_categorical(y_train, num_classes)\n",
    "y_test = keras.utils.to_categorical(y_test, num_classes)\n",
    "# Shape information\n",
    "print('x_train shape:', x_train.shape)\n",
    "print('y_train shape:', y_train.shape)\n",
    "print(x_train.shape[0], 'train samples')\n",
    "print(x_test.shape[0], 'test samples')"
   ]
  },
  {
   "cell_type": "code",
   "execution_count": 95,
   "metadata": {},
   "outputs": [
    {
     "name": "stdout",
     "output_type": "stream",
     "text": [
      "_________________________________________________________________\n",
      "Layer (type)                 Output Shape              Param #   \n",
      "=================================================================\n",
      "dense_18 (Dense)             (None, 10)                7850      \n",
      "=================================================================\n",
      "Total params: 7,850\n",
      "Trainable params: 7,850\n",
      "Non-trainable params: 0\n",
      "_________________________________________________________________\n"
     ]
    }
   ],
   "source": [
    "model = keras.models.Sequential()\n",
    "# Linear\n",
    "model.add(keras.layers.Dense(num_classes, activation='softmax',input_shape=[x_train.shape[1]]))\n",
    "model.compile(loss=keras.losses.categorical_crossentropy,\n",
    "optimizer=keras.optimizers.Adam(),\n",
    "metrics=['accuracy'])\n",
    "model.summary()"
   ]
  },
  {
   "cell_type": "code",
   "execution_count": 96,
   "metadata": {},
   "outputs": [
    {
     "name": "stdout",
     "output_type": "stream",
     "text": [
      "Test loss: 0.2641737094849348\n",
      "Test accuracy: 0.9275\n"
     ]
    }
   ],
   "source": [
    "# Train it!\n",
    "history = model.fit(x_train, y_train,\n",
    "    batch_size=128,\n",
    "    epochs=30,\n",
    "    verbose=0,\n",
    "    validation_split = 0.2)\n",
    "score = model.evaluate(x_test, y_test, verbose=0)\n",
    "print('Test loss:', score[0])\n",
    "print('Test accuracy:', score[1])"
   ]
  },
  {
   "cell_type": "code",
   "execution_count": 97,
   "metadata": {},
   "outputs": [
    {
     "data": {
      "image/png": "[encoded data removed]",
      "text/plain": [
       "<Figure size 432x288 with 2 Axes>"
      ]
     },
     "metadata": {
      "needs_background": "light"
     },
     "output_type": "display_data"
    }
   ],
   "source": [
    "plt.figure()\n",
    "# summarize history for accuracy\n",
    "plt.subplot(211)\n",
    "plt.plot(history.history['acc'])\n",
    "plt.plot(history.history['val_acc'])\n",
    "plt.title('model accuracy')\n",
    "plt.ylabel('accuracy')\n",
    "plt.xlabel('epoch')\n",
    "plt.legend(['train', 'test'], loc='upper left')\n",
    "# summarize history for loss\n",
    "plt.subplot(212)\n",
    "plt.plot(history.history['loss'])\n",
    "plt.plot(history.history['val_loss'])\n",
    "plt.title('model loss')\n",
    "plt.ylabel('loss')\n",
    "plt.xlabel('epoch')\n",
    "plt.legend(['train', 'test'], loc='upper left')\n",
    "plt.tight_layout()\n",
    "plt.show()"
   ]
  },
  {
   "cell_type": "code",
   "execution_count": 98,
   "metadata": {},
   "outputs": [
    {
     "name": "stdout",
     "output_type": "stream",
     "text": [
      "Test loss: 0.2641737094849348\n",
      "Test accuracy: 0.9275\n"
     ]
    }
   ],
   "source": [
    "score = model.evaluate(x_test, y_test, verbose=0)\n",
    "print('Test loss:', score[0])\n",
    "print('Test accuracy:', score[1])"
   ]
  },
  {
   "cell_type": "code",
   "execution_count": null,
   "metadata": {},
   "outputs": [],
   "source": []
  }
 ],
 "metadata": {
  "kernelspec": {
   "display_name": "Python 3",
   "language": "python",
   "name": "python3"
  },
  "language_info": {
   "codemirror_mode": {
    "name": "ipython",
    "version": 3
   },
   "file_extension": ".py",
   "mimetype": "text/x-python",
   "name": "python",
   "nbconvert_exporter": "python",
   "pygments_lexer": "ipython3",
   "version": "3.6.7"
  }
 },
 "nbformat": 4,
 "nbformat_minor": 2
}
