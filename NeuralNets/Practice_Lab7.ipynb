{
 "cells": [
  {
   "cell_type": "code",
   "execution_count": 33,
   "metadata": {},
   "outputs": [],
   "source": [
    "# Import what we need for the job...\n",
    "import keras\n",
    "import numpy as np\n",
    "import matplotlib.pyplot as plt\n",
    "%matplotlib inline\n",
    "from keras_tqdm import TQDMNotebookCallback\n",
    "# Visualization\n",
    "from IPython.display import SVG\n",
    "from IPython.display import display\n",
    "from keras.utils.vis_utils import model_to_dot"
   ]
  },
  {
   "cell_type": "code",
   "execution_count": 34,
   "metadata": {},
   "outputs": [],
   "source": [
    "# Length of sequences to model\n",
    "length = 10\n",
    "# Note we are making these the same, but they don't -have- to be!\n",
    "input_length = length\n",
    "output_length = length"
   ]
  },
  {
   "cell_type": "code",
   "execution_count": 35,
   "metadata": {},
   "outputs": [
    {
     "data": {
      "text/plain": [
       "array([[[1.],\n",
       "        [0.],\n",
       "        [0.],\n",
       "        [1.],\n",
       "        [0.],\n",
       "        [0.],\n",
       "        [1.],\n",
       "        [0.],\n",
       "        [1.],\n",
       "        [1.]]])"
      ]
     },
     "execution_count": 35,
     "metadata": {},
     "output_type": "execute_result"
    }
   ],
   "source": [
    "# Generate a random string of 0s and 1s\n",
    "x_train = np.round(np.random.uniform(0,1,[length])).reshape([1,length,1])\n",
    "x_train"
   ]
  },
  {
   "cell_type": "code",
   "execution_count": 36,
   "metadata": {},
   "outputs": [],
   "source": [
    "# Calculate parity (note this is the same algorithmic approach\n",
    "# that we are trying to encourage our net to learn!)\n",
    "def parity(x):\n",
    "    temp = np.zeros(x.shape)\n",
    "    mem = False\n",
    "# Iterate over the sequence\n",
    "    for i in range(x.shape[0]):\n",
    "        if x[i,0] > 0.5:\n",
    "            current = True\n",
    "        else:\n",
    "            current= False\n",
    "        mem = np.logical_xor(mem,current)\n",
    "        if mem:\n",
    "            temp[i,0] = 1.0\n",
    "        else:\n",
    "            temp[i,0] = 0.0\n",
    "    return (temp.reshape(1,temp.shape[0],temp.shape[1])) # Tensor!"
   ]
  },
  {
   "cell_type": "code",
   "execution_count": 37,
   "metadata": {},
   "outputs": [
    {
     "data": {
      "text/plain": [
       "array([[[1.],\n",
       "        [1.],\n",
       "        [1.],\n",
       "        [0.],\n",
       "        [0.],\n",
       "        [0.],\n",
       "        [1.],\n",
       "        [1.],\n",
       "        [0.],\n",
       "        [1.]]])"
      ]
     },
     "execution_count": 37,
     "metadata": {},
     "output_type": "execute_result"
    }
   ],
   "source": [
    "y_train = parity(x_train[0,:,:])\n",
    "y_train"
   ]
  },
  {
   "cell_type": "code",
   "execution_count": 38,
   "metadata": {},
   "outputs": [
    {
     "data": {
      "text/plain": [
       "array([[[0., 1.],\n",
       "        [1., 0.],\n",
       "        [1., 0.],\n",
       "        [0., 1.],\n",
       "        [1., 0.],\n",
       "        [1., 0.],\n",
       "        [0., 1.],\n",
       "        [1., 0.],\n",
       "        [0., 1.],\n",
       "        [0., 1.]]], dtype=float32)"
      ]
     },
     "execution_count": 38,
     "metadata": {},
     "output_type": "execute_result"
    }
   ],
   "source": [
    "X = np.expand_dims(keras.utils.to_categorical(x_train[0,:,0]),axis=0)\n",
    "X"
   ]
  },
  {
   "cell_type": "code",
   "execution_count": 39,
   "metadata": {},
   "outputs": [
    {
     "data": {
      "text/plain": [
       "array([[[0., 0., 1., 0.],\n",
       "        [0., 1., 0., 0.],\n",
       "        [0., 1., 0., 0.],\n",
       "        [0., 1., 0., 0.],\n",
       "        [1., 0., 0., 0.],\n",
       "        [1., 0., 0., 0.],\n",
       "        [1., 0., 0., 0.],\n",
       "        [0., 1., 0., 0.],\n",
       "        [0., 1., 0., 0.],\n",
       "        [1., 0., 0., 0.],\n",
       "        [0., 1., 0., 0.],\n",
       "        [0., 0., 0., 1.]]])"
      ]
     },
     "execution_count": 39,
     "metadata": {},
     "output_type": "execute_result"
    }
   ],
   "source": [
    "Y = np.expand_dims(np.vstack([np.array([0,0,1,0]),\n",
    "                    np.hstack([keras.utils.to_categorical(y_train[0,:,0]),np.zeros([output_length,2])]),\n",
    "                    np.array([0,0,0,1])]),axis=0)\n",
    "Y"
   ]
  },
  {
   "cell_type": "code",
   "execution_count": 40,
   "metadata": {},
   "outputs": [
    {
     "data": {
      "text/plain": [
       "(1, 10, 2)"
      ]
     },
     "execution_count": 40,
     "metadata": {},
     "output_type": "execute_result"
    }
   ],
   "source": [
    "X.shape"
   ]
  },
  {
   "cell_type": "code",
   "execution_count": 41,
   "metadata": {},
   "outputs": [
    {
     "data": {
      "text/plain": [
       "(1, 12, 4)"
      ]
     },
     "execution_count": 41,
     "metadata": {},
     "output_type": "execute_result"
    }
   ],
   "source": [
    "Y.shape"
   ]
  },
  {
   "cell_type": "code",
   "execution_count": 42,
   "metadata": {},
   "outputs": [],
   "source": [
    "# 12 time steps total (10 + start + stop)\n",
    "# Divide into two groups of 11\n",
    "# First from 0 ... 10\n",
    "preY = Y[:,0:output_length+1,:]\n",
    "# Second from 1 ... 11\n",
    "postY = Y[:,1:output_length+2,:]"
   ]
  },
  {
   "cell_type": "code",
   "execution_count": 43,
   "metadata": {},
   "outputs": [
    {
     "data": {
      "text/plain": [
       "(1, 11, 4)"
      ]
     },
     "execution_count": 43,
     "metadata": {},
     "output_type": "execute_result"
    }
   ],
   "source": [
    "preY.shape"
   ]
  },
  {
   "cell_type": "code",
   "execution_count": 44,
   "metadata": {},
   "outputs": [
    {
     "data": {
      "text/plain": [
       "(1, 11, 4)"
      ]
     },
     "execution_count": 44,
     "metadata": {},
     "output_type": "execute_result"
    }
   ],
   "source": [
    "postY.shape\n"
   ]
  },
  {
   "cell_type": "raw",
   "metadata": {},
   "source": [
    "Now make Encoder-Decoder framework\n",
    "Generally, the process looks like the following pseudocode:\n",
    "1. mylayer = Layer(...)\n",
    "2. mylayer_output(s) = mylayer(input_layer(s))\n",
    "3. Provide mylayer_output(s) as the input_layer(s) to another layer (going back to step 1 as many times as needed)\n",
    "4. model = Model(input_layer(s), output_layers())\n",
    "5. Compile and run the new model..."
   ]
  },
  {
   "cell_type": "code",
   "execution_count": 45,
   "metadata": {},
   "outputs": [
    {
     "name": "stdout",
     "output_type": "stream",
     "text": [
      "__________________________________________________________________________________________________\n",
      "Layer (type)                    Output Shape         Param #     Connected to                     \n",
      "==================================================================================================\n",
      "input_9 (InputLayer)            (None, None, 2)      0                                            \n",
      "__________________________________________________________________________________________________\n",
      "input_10 (InputLayer)           (None, None, 4)      0                                            \n",
      "__________________________________________________________________________________________________\n",
      "lstm_5 (LSTM)                   [(None, 20), (None,  1840        input_9[0][0]                    \n",
      "__________________________________________________________________________________________________\n",
      "lstm_6 (LSTM)                   [(None, None, 20), ( 2000        input_10[0][0]                   \n",
      "                                                                 lstm_5[0][1]                     \n",
      "                                                                 lstm_5[0][2]                     \n",
      "__________________________________________________________________________________________________\n",
      "dense_3 (Dense)                 (None, None, 4)      84          lstm_6[0][0]                     \n",
      "==================================================================================================\n",
      "Total params: 3,924\n",
      "Trainable params: 3,924\n",
      "Non-trainable params: 0\n",
      "__________________________________________________________________________________________________\n"
     ]
    }
   ],
   "source": [
    "# Size of the gestalt, context representations...\n",
    "hidden_size = input_length*2\n",
    "## Encoder Construction\n",
    "# Make the layers\n",
    "encoder_input = keras.layers.Input(shape=(None, X.shape[2]))\n",
    "encoder_hidden = keras.layers.LSTM(hidden_size, return_state=True)\n",
    "# Tie the hidden layer to the input layer (passed in)\n",
    "encoder_output, enc_state_h, enc_state_c = encoder_hidden(encoder_input)\n",
    "# We discard `encoder_outputs` and only keep the states.\n",
    "encoder_states = [enc_state_h, enc_state_c]\n",
    "## Decoder Construction\n",
    "# Set up the decoder, using `encoder_states` as initial state.\n",
    "decoder_input = keras.layers.Input(shape=(None, preY.shape[2]))\n",
    "decoder_hidden = keras.layers.LSTM(hidden_size, return_sequences=True, return_state=True)\n",
    "# Connect hidden to input (also reads from the encoder...)\n",
    "decoder_hidden_output, decoder_state_h, decoder_state_c = decoder_hidden(decoder_input,\n",
    "                                                                            initial_state=encoder_states)\n",
    "decoder_dense = keras.layers.Dense(postY.shape[2], activation='softmax')\n",
    "# Connect output to hidden\n",
    "decoder_output = decoder_dense(decoder_hidden_output)\n",
    "# Our functional API model now has -two- input layers:\n",
    "# 1. Reads from X\n",
    "# 2. Reads from preY\n",
    "# and has a -single- output layer...\n",
    "# 1. Targets are postY\n",
    "model = keras.Model([encoder_input, decoder_input], decoder_output)\n",
    "# Compile it...\n",
    "model.compile(loss=keras.losses.categorical_crossentropy,\n",
    "optimizer=keras.optimizers.Adam(),\n",
    "metrics=['accuracy'])\n",
    "model.summary()"
   ]
  },
  {
   "cell_type": "code",
   "execution_count": 46,
   "metadata": {},
   "outputs": [
    {
     "data": {
      "image/svg+xml": [
       "<svg height=\"264pt\" viewBox=\"0.00 0.00 269.50 264.00\" width=\"270pt\" xmlns=\"http://www.w3.org/2000/svg\" xmlns:xlink=\"http://www.w3.org/1999/xlink\">\n",
       "<g class=\"graph\" id=\"graph0\" transform=\"scale(1 1) rotate(0) translate(4 260)\">\n",
       "<title>G</title>\n",
       "<polygon fill=\"white\" points=\"-4,4 -4,-260 265.5,-260 265.5,4 -4,4\" stroke=\"none\"/>\n",
       "<!-- 140607715220840 -->\n",
       "<g class=\"node\" id=\"node1\"><title>140607715220840</title>\n",
       "<polygon fill=\"none\" points=\"0,-219.5 0,-255.5 125,-255.5 125,-219.5 0,-219.5\" stroke=\"black\"/>\n",
       "<text font-family=\"Times,serif\" font-size=\"14.00\" text-anchor=\"middle\" x=\"62.5\" y=\"-233.8\">input_9: InputLayer</text>\n",
       "</g>\n",
       "<!-- 140607715220896 -->\n",
       "<g class=\"node\" id=\"node3\"><title>140607715220896</title>\n",
       "<polygon fill=\"none\" points=\"13.5,-146.5 13.5,-182.5 111.5,-182.5 111.5,-146.5 13.5,-146.5\" stroke=\"black\"/>\n",
       "<text font-family=\"Times,serif\" font-size=\"14.00\" text-anchor=\"middle\" x=\"62.5\" y=\"-160.8\">lstm_5: LSTM</text>\n",
       "</g>\n",
       "<!-- 140607715220840&#45;&gt;140607715220896 -->\n",
       "<g class=\"edge\" id=\"edge1\"><title>140607715220840-&gt;140607715220896</title>\n",
       "<path d=\"M62.5,-219.313C62.5,-211.289 62.5,-201.547 62.5,-192.569\" fill=\"none\" stroke=\"black\"/>\n",
       "<polygon fill=\"black\" points=\"66.0001,-192.529 62.5,-182.529 59.0001,-192.529 66.0001,-192.529\" stroke=\"black\"/>\n",
       "</g>\n",
       "<!-- 140607715221176 -->\n",
       "<g class=\"node\" id=\"node2\"><title>140607715221176</title>\n",
       "<polygon fill=\"none\" points=\"129.5,-146.5 129.5,-182.5 261.5,-182.5 261.5,-146.5 129.5,-146.5\" stroke=\"black\"/>\n",
       "<text font-family=\"Times,serif\" font-size=\"14.00\" text-anchor=\"middle\" x=\"195.5\" y=\"-160.8\">input_10: InputLayer</text>\n",
       "</g>\n",
       "<!-- 140607715221008 -->\n",
       "<g class=\"node\" id=\"node4\"><title>140607715221008</title>\n",
       "<polygon fill=\"none\" points=\"79.5,-73.5 79.5,-109.5 177.5,-109.5 177.5,-73.5 79.5,-73.5\" stroke=\"black\"/>\n",
       "<text font-family=\"Times,serif\" font-size=\"14.00\" text-anchor=\"middle\" x=\"128.5\" y=\"-87.8\">lstm_6: LSTM</text>\n",
       "</g>\n",
       "<!-- 140607715221176&#45;&gt;140607715221008 -->\n",
       "<g class=\"edge\" id=\"edge2\"><title>140607715221176-&gt;140607715221008</title>\n",
       "<path d=\"M179.281,-146.313C170.969,-137.505 160.702,-126.625 151.58,-116.958\" fill=\"none\" stroke=\"black\"/>\n",
       "<polygon fill=\"black\" points=\"153.978,-114.4 144.569,-109.529 148.887,-119.204 153.978,-114.4\" stroke=\"black\"/>\n",
       "</g>\n",
       "<!-- 140607715220896&#45;&gt;140607715221008 -->\n",
       "<g class=\"edge\" id=\"edge3\"><title>140607715220896-&gt;140607715221008</title>\n",
       "<path d=\"M78.4768,-146.313C86.6647,-137.505 96.7782,-126.625 105.764,-116.958\" fill=\"none\" stroke=\"black\"/>\n",
       "<polygon fill=\"black\" points=\"108.425,-119.236 112.67,-109.529 103.298,-114.47 108.425,-119.236\" stroke=\"black\"/>\n",
       "</g>\n",
       "<!-- 140607705826192 -->\n",
       "<g class=\"node\" id=\"node5\"><title>140607705826192</title>\n",
       "<polygon fill=\"none\" points=\"77.5,-0.5 77.5,-36.5 179.5,-36.5 179.5,-0.5 77.5,-0.5\" stroke=\"black\"/>\n",
       "<text font-family=\"Times,serif\" font-size=\"14.00\" text-anchor=\"middle\" x=\"128.5\" y=\"-14.8\">dense_3: Dense</text>\n",
       "</g>\n",
       "<!-- 140607715221008&#45;&gt;140607705826192 -->\n",
       "<g class=\"edge\" id=\"edge5\"><title>140607715221008-&gt;140607705826192</title>\n",
       "<path d=\"M128.5,-73.3129C128.5,-65.2895 128.5,-55.5475 128.5,-46.5691\" fill=\"none\" stroke=\"black\"/>\n",
       "<polygon fill=\"black\" points=\"132,-46.5288 128.5,-36.5288 125,-46.5289 132,-46.5288\" stroke=\"black\"/>\n",
       "</g>\n",
       "</g>\n",
       "</svg>"
      ],
      "text/plain": [
       "<IPython.core.display.SVG object>"
      ]
     },
     "execution_count": 46,
     "metadata": {},
     "output_type": "execute_result"
    }
   ],
   "source": [
    "# Visualization - wish we could see the recurrent weights!\n",
    "SVG(model_to_dot(model).create(prog='dot', format='svg'))"
   ]
  },
  {
   "cell_type": "raw",
   "metadata": {},
   "source": [
    "we can see how the initial input is folded into lstm_1, then lstm_1 and input_2 are fed to lstm_2 to begin to decode, then dense_1 has the decoded token which will be used as the next input_2"
   ]
  },
  {
   "cell_type": "code",
   "execution_count": 47,
   "metadata": {},
   "outputs": [
    {
     "data": {
      "application/vnd.jupyter.widget-view+json": {
       "model_id": "c0804adf3ba24cf3880a33a4582049f0",
       "version_major": 2,
       "version_minor": 0
      },
      "text/plain": [
       "HBox(children=(IntProgress(value=0, description='Training', max=200, style=ProgressStyle(description_width='in…"
      ]
     },
     "metadata": {},
     "output_type": "display_data"
    },
    {
     "data": {
      "application/vnd.jupyter.widget-view+json": {
       "model_id": "",
       "version_major": 2,
       "version_minor": 0
      },
      "text/plain": [
       "HBox(children=(IntProgress(value=0, description='Epoch 0', max=1, style=ProgressStyle(description_width='initi…"
      ]
     },
     "metadata": {},
     "output_type": "display_data"
    },
    {
     "name": "stdout",
     "output_type": "stream",
     "text": [
      "\n",
      "1/1 [==============================] - 1s 592ms/step\n",
      "Accuracy: 100.0 %\n"
     ]
    }
   ],
   "source": [
    "batch_size = 1 # only one pattern...\n",
    "epochs = 200\n",
    "history = model.fit([X,preY], postY,\n",
    "    batch_size=batch_size,\n",
    "    epochs=epochs,\n",
    "    verbose=0,\n",
    "    callbacks=[TQDMNotebookCallback()])\n",
    "print('Accuracy:',model.evaluate([X,preY],postY)[1]*100.0,'%')"
   ]
  },
  {
   "cell_type": "code",
   "execution_count": 48,
   "metadata": {},
   "outputs": [
    {
     "data": {
      "image/png": "[encoded data removed]",
      "text/plain": [
       "<Figure size 432x288 with 2 Axes>"
      ]
     },
     "metadata": {
      "needs_background": "light"
     },
     "output_type": "display_data"
    }
   ],
   "source": [
    "plt.figure(1)\n",
    "# summarize history for accuracy\n",
    "plt.subplot(211)\n",
    "plt.plot(history.history['acc'])\n",
    "plt.title('model accuracy')\n",
    "plt.ylabel('accuracy')\n",
    "plt.xlabel('epoch')\n",
    "# summarize history for loss\n",
    "plt.subplot(212)\n",
    "plt.plot(history.history['loss'])\n",
    "plt.title('model loss')\n",
    "plt.ylabel('loss')\n",
    "plt.xlabel('epoch')\n",
    "plt.tight_layout()\n",
    "plt.show()"
   ]
  },
  {
   "cell_type": "raw",
   "metadata": {},
   "source": [
    "The network appears to have learned the sequence, but there is one thing wrong with the final evaluation: the teacher forcing inputs are still being provided on each time step. Instead, we should be feeding the output from the decoder back into this input layer, so that it can use it's own predictions to forecast the next step. If we had left off the teacher forcing inputs entirely, this would not have been necessary,\n",
    "but let's make a more proper test of the network now.\n",
    "In order to accomplish this part of the job, we will construct another model, but just reuse the layers already defined and trained before. This will allow us to connect the layers together to create a model which accomplishes the feedback loop for us..."
   ]
  },
  {
   "cell_type": "code",
   "execution_count": 49,
   "metadata": {},
   "outputs": [],
   "source": [
    "# Part 1 - make the encoder\n",
    "# Make just a model out of the encoder\n",
    "# input = encoder_input (Input layer)\n",
    "# output = encoder_states (enc Hidden layer * 2)\n",
    "encoder_model = keras.Model(encoder_input, encoder_states)\n",
    "# Part 2 - make the decoder\n",
    "# Make just a model out of the decoder\n",
    "# input = encoder_states (enc Hidden layer * 2)\n",
    "# output = decoder_output\n",
    "decoder_state_input_h = keras.layers.Input(shape=(hidden_size,))\n",
    "decoder_state_input_c = keras.layers.Input(shape=(hidden_size,))\n",
    "# Connect hidden to input(s)\n",
    "decoder_states_input = [decoder_state_input_h, decoder_state_input_c]\n",
    "decoder_hidden_output, decoder_state_h, decoder_state_c = decoder_hidden(decoder_input,\n",
    "                                                            initial_state=decoder_states_input)\n",
    "decoder_states = [decoder_state_h, decoder_state_c]\n",
    "# Connect output to hidden(s)\n",
    "decoder_output = decoder_dense(decoder_hidden_output)\n",
    "decoder_model = keras.Model(\n",
    "    [decoder_input] + decoder_states_input,\n",
    "    [decoder_output] + decoder_states)"
   ]
  },
  {
   "cell_type": "raw",
   "metadata": {},
   "source": [
    "OK, at this point, it's important that we slow down and think about what we have just constructed here. This network is not going to be\n",
    "trained in any way, and it (mostly) just reuses layers that have already created (and trained) in the earlier part of this example. Therefore, we\n",
    "are just going to rearrange some of the layers into two new models to make it easier to probe the network. These parts will naturally be the\n",
    "encoder and the decoder. However, these new models will just be used for prediction instead of training."
   ]
  },
  {
   "cell_type": "raw",
   "metadata": {},
   "source": [
    "The basic idea is that we need to first encode the input sequence into its gestalt context representation. This is the job of the encoder, and this part is rather straight-forward because the encoder network architecture remains practically unchanged: we just didn't give the encoder it's own, independent model before. Therefore, we could not just extract a hidden layer representation without also feeding it into the input layer of the decoder. The new encoder_model now just takes our input sequence and provides us with the output \"states\" or activations of the LSTM units. We can use the predict() method now to easily obtain those representations"
   ]
  },
  {
   "cell_type": "raw",
   "metadata": {},
   "source": [
    "The second part of the decoding process involves making a new set of inputs for the decoder which will accept the state information from the encoder outputs (in addition to the sequence starting token). This uses two layers which are just standard input layers set to the corresponding size of the LSTM outputs from the encoder. This just allows us to transfer that information over to the decoder manually by copying the output values from the encoder into these input layers. The hidden layer of the decoder then takes the encoder's hidden layer information and an input token vector (decoder_input, just like before)"
   ]
  },
  {
   "cell_type": "raw",
   "metadata": {},
   "source": [
    "Instead of using teacher forcing to make the sequence input equal to a prescribed target token (like we did during training), here we will only provide the start token along with the encoder's gestalt context. After that, we will let the decoder produce an output value. This output value will then be rounded to the nearest value (it's a graded prediction, so we clean it up a little in this obvious way), and then we will feed it back into the decoder for the next time step (along with the updated decoder hidden layer activations as well which take the place of the encoder network's initial context information). So long as we provide the encoder's activations and the start token on the first step. The decoder network is then asked to step through this series of steps repeatedly until it reaches the stop token (or a maximum number of steps is reached). In our case, all sequences are of the same length, so we will expect it will reach the stop token by the 11th output"
   ]
  },
  {
   "cell_type": "raw",
   "metadata": {},
   "source": [
    "Let's walk through these steps by calculating the context from the encoder using our input sequence, X , then providing the start token ( 0010 ) to the encoder output as the first inputs to the decoder. Then we will recycle the decoder's output and hidden representations back into the network, just predicting one time step at a time until the sequence terminates."
   ]
  },
  {
   "cell_type": "code",
   "execution_count": 50,
   "metadata": {},
   "outputs": [
    {
     "data": {
      "text/plain": [
       "array([[[0., 0., 1., 0.]]])"
      ]
     },
     "execution_count": 50,
     "metadata": {},
     "output_type": "execute_result"
    }
   ],
   "source": [
    "# Get the gestalt context for the input sequence(s)\n",
    "context = encoder_model.predict(X)\n",
    "# Prep a starting token [[[0,0,1,0]]]..\n",
    "token = np.zeros([1,1,Y.shape[2]])\n",
    "token[0,0,2] = 1\n",
    "token"
   ]
  },
  {
   "cell_type": "code",
   "execution_count": 52,
   "metadata": {},
   "outputs": [
    {
     "data": {
      "text/plain": [
       "array([[[0., 0., 0., 1.],\n",
       "        [0., 0., 0., 1.],\n",
       "        [0., 0., 0., 1.],\n",
       "        [0., 0., 0., 1.],\n",
       "        [0., 0., 0., 1.],\n",
       "        [0., 0., 0., 1.],\n",
       "        [0., 0., 0., 1.],\n",
       "        [0., 0., 0., 1.],\n",
       "        [0., 0., 0., 1.],\n",
       "        [0., 0., 0., 1.],\n",
       "        [0., 0., 0., 1.]]])"
      ]
     },
     "execution_count": 52,
     "metadata": {},
     "output_type": "execute_result"
    }
   ],
   "source": [
    "# Complete 11 cycles with the decoder\n",
    "result = np.zeros(postY.shape)\n",
    "for x in range(output_length+1):\n",
    "    out,h,c = decoder_model.predict([token]+context)\n",
    "    token = np.round(out)\n",
    "    context = [h,c]\n",
    "    result[:,x,:] = token\n",
    "result"
   ]
  },
  {
   "cell_type": "code",
   "execution_count": 53,
   "metadata": {},
   "outputs": [
    {
     "data": {
      "text/plain": [
       "array([[[0., 1., 0., 0.],\n",
       "        [0., 1., 0., 0.],\n",
       "        [0., 1., 0., 0.],\n",
       "        [1., 0., 0., 0.],\n",
       "        [1., 0., 0., 0.],\n",
       "        [1., 0., 0., 0.],\n",
       "        [0., 1., 0., 0.],\n",
       "        [0., 1., 0., 0.],\n",
       "        [1., 0., 0., 0.],\n",
       "        [0., 1., 0., 0.],\n",
       "        [0., 0., 0., 1.]]])"
      ]
     },
     "execution_count": 53,
     "metadata": {},
     "output_type": "execute_result"
    }
   ],
   "source": [
    "# Let's compare with the pattern\n",
    "postY"
   ]
  },
  {
   "cell_type": "code",
   "execution_count": 54,
   "metadata": {},
   "outputs": [],
   "source": [
    "# New length\n",
    "length = 10\n",
    "input_length = length\n",
    "output_length = length\n",
    "# Set number of patterns here\n",
    "n_seq = 100\n",
    "# Generate the Xs\n",
    "x_train = np.concatenate([np.round(np.random.uniform(0,1,[length])).reshape([1,length,1]) for x in range(n_seq)])\n",
    "y_train = np.concatenate([parity(x_train[x,:,:]) for x in range(n_seq)])\n",
    "# Reformat - dictionary approach\n",
    "X = np.concatenate([np.expand_dims(keras.utils.to_categorical(x_train[x,:,:]),axis=0) for x in range(n_seq)])\n",
    "Y = np.concatenate([np.expand_dims(np.vstack([np.array([0,0,1,0]),\n",
    "np.hstack([keras.utils.to_categorical(y_train[x,:,:]),np.zeros([output_length,2])]),\n",
    "np.array([0,0,0,1])]),axis=0) for x in range(n_seq)])\n",
    "preY = Y[:,0:length+1,:]\n",
    "postY = Y[:,1:length+2,:]"
   ]
  },
  {
   "cell_type": "code",
   "execution_count": 55,
   "metadata": {},
   "outputs": [
    {
     "name": "stdout",
     "output_type": "stream",
     "text": [
      "(100, 10, 2)\n",
      "(100, 12, 4)\n",
      "(100, 11, 4)\n",
      "(100, 11, 4)\n"
     ]
    }
   ],
   "source": [
    "print(X.shape)\n",
    "print(Y.shape)\n",
    "print(preY.shape)\n",
    "print(postY.shape)"
   ]
  },
  {
   "cell_type": "code",
   "execution_count": 56,
   "metadata": {},
   "outputs": [
    {
     "name": "stdout",
     "output_type": "stream",
     "text": [
      "__________________________________________________________________________________________________\n",
      "Layer (type)                    Output Shape         Param #     Connected to                     \n",
      "==================================================================================================\n",
      "input_13 (InputLayer)           (None, None, 2)      0                                            \n",
      "__________________________________________________________________________________________________\n",
      "input_14 (InputLayer)           (None, None, 4)      0                                            \n",
      "__________________________________________________________________________________________________\n",
      "lstm_7 (LSTM)                   [(None, 20), (None,  1840        input_13[0][0]                   \n",
      "__________________________________________________________________________________________________\n",
      "lstm_8 (LSTM)                   [(None, None, 20), ( 2000        input_14[0][0]                   \n",
      "                                                                 lstm_7[0][1]                     \n",
      "                                                                 lstm_7[0][2]                     \n",
      "__________________________________________________________________________________________________\n",
      "dense_4 (Dense)                 (None, None, 4)      84          lstm_8[0][0]                     \n",
      "==================================================================================================\n",
      "Total params: 3,924\n",
      "Trainable params: 3,924\n",
      "Non-trainable params: 0\n",
      "__________________________________________________________________________________________________\n"
     ]
    }
   ],
   "source": [
    "# Same as before...\n",
    "# Size of the gestalt, context representations...\n",
    "hidden_size = input_length*2\n",
    "## Encoder Construction\n",
    "# Make the layers\n",
    "encoder_input = keras.layers.Input(shape=(None, X.shape[2]))\n",
    "encoder_hidden = keras.layers.LSTM(hidden_size, return_state=True)\n",
    "# Tie the hidden layer to the input layer (passed in)\n",
    "encoder_output, enc_state_h, enc_state_c = encoder_hidden(encoder_input)\n",
    "# We discard `encoder_outputs` and only keep the states.\n",
    "encoder_states = [enc_state_h, enc_state_c]\n",
    "## Decoder Construction\n",
    "# Set up the decoder, using `encoder_states` as initial state.\n",
    "decoder_input = keras.layers.Input(shape=(None, preY.shape[2]))\n",
    "decoder_hidden = keras.layers.LSTM(hidden_size, return_sequences=True, return_state=True)\n",
    "# Connect hidden to input (also reads from the encoder...)\n",
    "decoder_hidden_output, decoder_state_h, decoder_state_c = decoder_hidden(decoder_input,\n",
    "                                                            initial_state=encoder_states)\n",
    "decoder_dense = keras.layers.Dense(postY.shape[2], activation='softmax')\n",
    "# Connect output to hidden\n",
    "decoder_output = decoder_dense(decoder_hidden_output)\n",
    "# Our functional API model now has -two- input layers:\n",
    "# 1. Reads from X\n",
    "# 2. Reads from preY\n",
    "# and has a -single- output layer...\n",
    "# 1. Targets are postY\n",
    "model = keras.Model([encoder_input, decoder_input], decoder_output)\n",
    "# Compile it...\n",
    "model.compile(loss=keras.losses.categorical_crossentropy,\n",
    "optimizer=keras.optimizers.Adam(),\n",
    "metrics=['accuracy'])\n",
    "model.summary()"
   ]
  },
  {
   "cell_type": "code",
   "execution_count": 57,
   "metadata": {},
   "outputs": [
    {
     "data": {
      "image/svg+xml": [
       "<svg height=\"264pt\" viewBox=\"0.00 0.00 273.00 264.00\" width=\"273pt\" xmlns=\"http://www.w3.org/2000/svg\" xmlns:xlink=\"http://www.w3.org/1999/xlink\">\n",
       "<g class=\"graph\" id=\"graph0\" transform=\"scale(1 1) rotate(0) translate(4 260)\">\n",
       "<title>G</title>\n",
       "<polygon fill=\"white\" points=\"-4,4 -4,-260 269,-260 269,4 -4,4\" stroke=\"none\"/>\n",
       "<!-- 140607785986928 -->\n",
       "<g class=\"node\" id=\"node1\"><title>140607785986928</title>\n",
       "<polygon fill=\"none\" points=\"0,-219.5 0,-255.5 132,-255.5 132,-219.5 0,-219.5\" stroke=\"black\"/>\n",
       "<text font-family=\"Times,serif\" font-size=\"14.00\" text-anchor=\"middle\" x=\"66\" y=\"-233.8\">input_13: InputLayer</text>\n",
       "</g>\n",
       "<!-- 140607785986984 -->\n",
       "<g class=\"node\" id=\"node3\"><title>140607785986984</title>\n",
       "<polygon fill=\"none\" points=\"17,-146.5 17,-182.5 115,-182.5 115,-146.5 17,-146.5\" stroke=\"black\"/>\n",
       "<text font-family=\"Times,serif\" font-size=\"14.00\" text-anchor=\"middle\" x=\"66\" y=\"-160.8\">lstm_7: LSTM</text>\n",
       "</g>\n",
       "<!-- 140607785986928&#45;&gt;140607785986984 -->\n",
       "<g class=\"edge\" id=\"edge1\"><title>140607785986928-&gt;140607785986984</title>\n",
       "<path d=\"M66,-219.313C66,-211.289 66,-201.547 66,-192.569\" fill=\"none\" stroke=\"black\"/>\n",
       "<polygon fill=\"black\" points=\"69.5001,-192.529 66,-182.529 62.5001,-192.529 69.5001,-192.529\" stroke=\"black\"/>\n",
       "</g>\n",
       "<!-- 140607785987152 -->\n",
       "<g class=\"node\" id=\"node2\"><title>140607785987152</title>\n",
       "<polygon fill=\"none\" points=\"133,-146.5 133,-182.5 265,-182.5 265,-146.5 133,-146.5\" stroke=\"black\"/>\n",
       "<text font-family=\"Times,serif\" font-size=\"14.00\" text-anchor=\"middle\" x=\"199\" y=\"-160.8\">input_14: InputLayer</text>\n",
       "</g>\n",
       "<!-- 140607785987600 -->\n",
       "<g class=\"node\" id=\"node4\"><title>140607785987600</title>\n",
       "<polygon fill=\"none\" points=\"83,-73.5 83,-109.5 181,-109.5 181,-73.5 83,-73.5\" stroke=\"black\"/>\n",
       "<text font-family=\"Times,serif\" font-size=\"14.00\" text-anchor=\"middle\" x=\"132\" y=\"-87.8\">lstm_8: LSTM</text>\n",
       "</g>\n",
       "<!-- 140607785987152&#45;&gt;140607785987600 -->\n",
       "<g class=\"edge\" id=\"edge2\"><title>140607785987152-&gt;140607785987600</title>\n",
       "<path d=\"M182.781,-146.313C174.469,-137.505 164.202,-126.625 155.08,-116.958\" fill=\"none\" stroke=\"black\"/>\n",
       "<polygon fill=\"black\" points=\"157.478,-114.4 148.069,-109.529 152.387,-119.204 157.478,-114.4\" stroke=\"black\"/>\n",
       "</g>\n",
       "<!-- 140607785986984&#45;&gt;140607785987600 -->\n",
       "<g class=\"edge\" id=\"edge3\"><title>140607785986984-&gt;140607785987600</title>\n",
       "<path d=\"M81.9768,-146.313C90.1647,-137.505 100.278,-126.625 109.264,-116.958\" fill=\"none\" stroke=\"black\"/>\n",
       "<polygon fill=\"black\" points=\"111.925,-119.236 116.17,-109.529 106.798,-114.47 111.925,-119.236\" stroke=\"black\"/>\n",
       "</g>\n",
       "<!-- 140607785022128 -->\n",
       "<g class=\"node\" id=\"node5\"><title>140607785022128</title>\n",
       "<polygon fill=\"none\" points=\"81,-0.5 81,-36.5 183,-36.5 183,-0.5 81,-0.5\" stroke=\"black\"/>\n",
       "<text font-family=\"Times,serif\" font-size=\"14.00\" text-anchor=\"middle\" x=\"132\" y=\"-14.8\">dense_4: Dense</text>\n",
       "</g>\n",
       "<!-- 140607785987600&#45;&gt;140607785022128 -->\n",
       "<g class=\"edge\" id=\"edge5\"><title>140607785987600-&gt;140607785022128</title>\n",
       "<path d=\"M132,-73.3129C132,-65.2895 132,-55.5475 132,-46.5691\" fill=\"none\" stroke=\"black\"/>\n",
       "<polygon fill=\"black\" points=\"135.5,-46.5288 132,-36.5288 128.5,-46.5289 135.5,-46.5288\" stroke=\"black\"/>\n",
       "</g>\n",
       "</g>\n",
       "</svg>"
      ],
      "text/plain": [
       "<IPython.core.display.SVG object>"
      ]
     },
     "execution_count": 57,
     "metadata": {},
     "output_type": "execute_result"
    }
   ],
   "source": [
    "# Visualization - wish we could see the recurrent weights!\n",
    "SVG(model_to_dot(model).create(prog='dot', format='svg'))"
   ]
  },
  {
   "cell_type": "code",
   "execution_count": 58,
   "metadata": {},
   "outputs": [
    {
     "data": {
      "application/vnd.jupyter.widget-view+json": {
       "model_id": "aac2749de2094df7ab1b23173bf6ef70",
       "version_major": 2,
       "version_minor": 0
      },
      "text/plain": [
       "HBox(children=(IntProgress(value=0, description='Training', max=1500, style=ProgressStyle(description_width='i…"
      ]
     },
     "metadata": {},
     "output_type": "display_data"
    },
    {
     "data": {
      "application/vnd.jupyter.widget-view+json": {
       "model_id": "",
       "version_major": 2,
       "version_minor": 0
      },
      "text/plain": [
       "HBox(children=(IntProgress(value=0, description='Epoch 0', max=80, style=ProgressStyle(description_width='init…"
      ]
     },
     "metadata": {},
     "output_type": "display_data"
    },
    {
     "name": "stdout",
     "output_type": "stream",
     "text": [
      "\n",
      "100/100 [==============================] - 0s 308us/step\n",
      "Accuracy: 92.18181824684143 %\n"
     ]
    }
   ],
   "source": [
    "batch_size = 20 # many patterns...\n",
    "epochs = 1500\n",
    "history = model.fit([X,preY], postY,\n",
    "                    batch_size=batch_size,\n",
    "                    epochs=epochs,\n",
    "                    verbose=0,\n",
    "                    callbacks=[TQDMNotebookCallback()],\n",
    "                    validation_split = 0.2) # Remember, teacher forced, but a little informative...\n",
    "print('Accuracy:',model.evaluate([X,preY],postY)[1]*100.0,'%')"
   ]
  },
  {
   "cell_type": "code",
   "execution_count": 59,
   "metadata": {},
   "outputs": [
    {
     "data": {
      "image/png": "[encoded data removed]",
      "text/plain": [
       "<Figure size 432x288 with 2 Axes>"
      ]
     },
     "metadata": {
      "needs_background": "light"
     },
     "output_type": "display_data"
    }
   ],
   "source": [
    "plt.figure(1)\n",
    "# summarize history for accuracy\n",
    "plt.subplot(211)\n",
    "plt.plot(history.history['acc'])\n",
    "plt.plot(history.history['val_acc'])\n",
    "plt.title('model accuracy')\n",
    "plt.ylabel('accuracy')\n",
    "plt.xlabel('epoch')\n",
    "plt.legend(['train', 'test'], loc='upper left')\n",
    "# summarize history for loss\n",
    "plt.subplot(212)\n",
    "plt.plot(history.history['loss'])\n",
    "plt.plot(history.history['val_loss'])\n",
    "plt.title('model loss')\n",
    "plt.ylabel('loss')\n",
    "plt.xlabel('epoch')\n",
    "plt.legend(['train', 'test'], loc='upper left')\n",
    "plt.tight_layout()\n",
    "plt.show()"
   ]
  },
  {
   "cell_type": "code",
   "execution_count": 61,
   "metadata": {},
   "outputs": [],
   "source": [
    "## Testing!\n",
    "# Part 1 - make the encoder\n",
    "# Make just a model out of the encoder\n",
    "# input = encoder_input (Input layer)\n",
    "# output = encoder_states (enc Hidden layer * 2)\n",
    "encoder_model = keras.Model(encoder_input, encoder_states)\n",
    "# Part 2 - make the decoder\n",
    "# Make just a model out of the decoder\n",
    "# input = encoder_states (enc Hidden layer * 2)\n",
    "# output = decoder_output\n",
    "decoder_state_input_h = keras.layers.Input(shape=(hidden_size,))\n",
    "decoder_state_input_c = keras.layers.Input(shape=(hidden_size,))\n",
    "# Connect hidden to input(s)\n",
    "decoder_states_input = [decoder_state_input_h, decoder_state_input_c]\n",
    "decoder_hidden_output, decoder_state_h, decoder_state_c = decoder_hidden(decoder_input,\n",
    "                                                                            initial_state=decoder_states_input)\n",
    "decoder_states = [decoder_state_h, decoder_state_c]\n",
    "# Connect output to hidden(s)\n",
    "decoder_output = decoder_dense(decoder_hidden_output)\n",
    "decoder_model = keras.Model(\n",
    "    [decoder_input] + decoder_states_input,\n",
    "    [decoder_output] + decoder_states)"
   ]
  },
  {
   "cell_type": "code",
   "execution_count": 63,
   "metadata": {},
   "outputs": [],
   "source": [
    "# Testing time...\n",
    "error = 0\n",
    "for p in range(n_seq):\n",
    "    # Get the gestalt context for the input sequence(s)\n",
    "    context = encoder_model.predict(X[p:p+1,:,:])\n",
    "    # Prep a starting token [[[0,0,1,0]]]..\n",
    "    token = np.zeros([1,1,Y.shape[2]])\n",
    "    token[0,0,2] = 1\n",
    "    token\n",
    "    # Complete 11 cycles with the decoder\n",
    "    result = np.zeros(postY.shape)\n",
    "    for x in range(output_length+1):\n",
    "        out,h,c = decoder_model.predict([token]+context)\n",
    "        token = np.round(out)\n",
    "        context = [h,c]\n",
    "        result[:,x,:] = token\n",
    "    error += np.sum(np.abs(result-postY[p:p+1,:,:]))/2.0"
   ]
  },
  {
   "cell_type": "code",
   "execution_count": 64,
   "metadata": {},
   "outputs": [
    {
     "name": "stdout",
     "output_type": "stream",
     "text": [
      "Overall accuracy: 88.200000%\n"
     ]
    }
   ],
   "source": [
    "print(\"Overall accuracy: %f%%\"%(100.0 - (error / (n_seq*output_length))))"
   ]
  },
  {
   "cell_type": "raw",
   "metadata": {},
   "source": [
    "For the final accuracy calculation, we loop through all of the training patterns and count up all of the missed tokens. This can be expressed as the absolute difference between the predicted output sequence, and the one from the postY pattern set (divided by two). The accuracy therefore isn't really how many sequences were correctly classified, but how many tokens the network missed. At this point, then encoder-decoder has made it to about 90% accuracy on all tokens, so with a little more training (or tweaks to the architecture), we might get even further. For example, we could change the activation function from tanh (the default for LSTM) to relu , try adding more units to the hidden layers, or just stack some additional LSTM layers onto the encoder or decoder networks."
   ]
  },
  {
   "cell_type": "markdown",
   "metadata": {},
   "source": [
    "## Learning to Write Like Jane Austen"
   ]
  },
  {
   "cell_type": "raw",
   "metadata": {},
   "source": [
    "Jane Austen's Pride and Prejudice is the number one requested e-book on Project Gutenberg. As a result, let's see if we can train a recurrent network to write like a genius! We will be parsing the raw text line-by-line and then asking our network to learn, given one line, what the following line should be = literal genius?, literally genius? no, no: literary genius. :-)\n",
    "\n",
    "The basic text is split into lines already, and extra new lines are placed between paragraphs. We will end up parsing the entire text, but only learning on a small part of it for this example. I will ask you to emulate the process in the assignment below and learn a little more of the text...\n",
    "\n",
    "First, let's read in the text and do some preprocessing on it..."
   ]
  },
  {
   "cell_type": "code",
   "execution_count": 66,
   "metadata": {},
   "outputs": [],
   "source": [
    "# Preprocessing - grab lines from the file\n",
    "with open('/nfshome/sandbox/gutenberg_example/PandP_Jane_Austen.txt', 'r', encoding='utf-8') as f:\n",
    "            lines = f.read().split('\\n')\n",
    "# Paragraphs are separated by blank\n",
    "# lines -> just drop those lines...\n",
    "text = []\n",
    "for i in range(len(lines)):\n",
    "    if lines[i] != '':\n",
    "        text = text + [lines[i]]\n",
    "min_length = max([len(i) for i in text])"
   ]
  },
  {
   "cell_type": "raw",
   "metadata": {},
   "source": [
    "The reading process reads in the text, but then drops the blank lines between paragraphs. After that, we determine the length of the longest string in the text. I call it min_length because it's the minimum size of sequence that our network will read (and for other reasons below), so don't be confused by the name. We will only use it on special occasions anyway...\n",
    "\n",
    "We will also read in the list of unique characters used in this text. I've already pre-processed this information from the file above using a piece of C++ code that I had laying around, but it wouldn't be difficult to do the same using a set in Python. I'll leave that as an exercise for your own amusement at some other time.\n",
    "\n",
    "Here's the list of unique characters, one-per-line..."
   ]
  },
  {
   "cell_type": "code",
   "execution_count": 68,
   "metadata": {},
   "outputs": [],
   "source": [
    "# Unique characters - precalculated\n",
    "with open('/nfshome/sandbox/gutenberg_example/unique_chars.txt', 'r', encoding='utf-8') as f:\n",
    "            lines = f.read().split('\\n')\n",
    "# Integer code to symbol\n",
    "itos = ['','',' ']\n",
    "for i in lines:\n",
    "    itos = itos + [i]\n",
    "# Symbol to integer code\n",
    "stoi = dict()\n",
    "stoi['STOP'] = 0\n",
    "stoi['START'] = 1\n",
    "for i in range(2,len(itos)):\n",
    "    stoi[itos[i]] = i"
   ]
  },
  {
   "cell_type": "raw",
   "metadata": {},
   "source": [
    "Note that I have added a couple of extra tokens to the list ('START','STOP', and a space - wasn't counted as a character by my C++ implementation) and have created data structures for mapping from a character to an integer code ( stoi ) and from an integer code to a character ( itos ). We can use these structures later to map back and forth between human-readable and network-readable encodings.\n",
    "\n",
    "Let's see what size the text corpus is now..."
   ]
  },
  {
   "cell_type": "code",
   "execution_count": 69,
   "metadata": {},
   "outputs": [
    {
     "data": {
      "text/plain": [
       "10658"
      ]
     },
     "execution_count": 69,
     "metadata": {},
     "output_type": "execute_result"
    }
   ],
   "source": [
    "# Total number of sentences\n",
    "len(text)"
   ]
  },
  {
   "cell_type": "code",
   "execution_count": 70,
   "metadata": {},
   "outputs": [
    {
     "data": {
      "text/plain": [
       "76"
      ]
     },
     "execution_count": 70,
     "metadata": {},
     "output_type": "execute_result"
    }
   ],
   "source": [
    "# Longest sentence - plus start/stop\n",
    "max(len(i) for i in text)+2"
   ]
  },
  {
   "cell_type": "code",
   "execution_count": 71,
   "metadata": {},
   "outputs": [
    {
     "data": {
      "text/plain": [
       "71"
      ]
     },
     "execution_count": 71,
     "metadata": {},
     "output_type": "execute_result"
    }
   ],
   "source": [
    "# Number of tokens (each will be one-hot encoded)\n",
    "len(itos)"
   ]
  },
  {
   "cell_type": "raw",
   "metadata": {},
   "source": [
    "OK, so we have 10,658 lines of text and the longest line we have in the text is 76 tokens (we add 2 for the start and stop tokens that we will add to these sentences). You can also see that there are 71 unique tokens identified for this text, which will be the input layer size for our network.\n",
    "\n",
    "Let's prepare functions which will map a sentence to a one-hot vector (encoding) and also reverse this process when needed (decoding)."
   ]
  },
  {
   "cell_type": "code",
   "execution_count": 73,
   "metadata": {},
   "outputs": [],
   "source": [
    "def encode_seq(x,mapping,min_length=0):\n",
    "# String to one-hot\n",
    "    y = [mapping['START']]\n",
    "    for i in list(x):\n",
    "        y = y + [mapping[i]]\n",
    "    y = y + [mapping['STOP']]\n",
    "    # Stop-padding - handled elsewhere...\n",
    "    while len(y) < min_length:\n",
    "        y = y + [mapping['STOP']]\n",
    "    return keras.utils.to_categorical(y,len(mapping))\n",
    "\n",
    "def decode_seq(x,mapping):\n",
    "    # One-hot to string\n",
    "    y = []\n",
    "    for i in x:\n",
    "        y = y + [mapping[np.argmax(i)]]\n",
    "    return ''.join(y)"
   ]
  },
  {
   "cell_type": "code",
   "execution_count": 74,
   "metadata": {},
   "outputs": [
    {
     "data": {
      "text/plain": [
       "'It is a truth universally acknowledged, that a single man in possession'"
      ]
     },
     "execution_count": 74,
     "metadata": {},
     "output_type": "execute_result"
    }
   ],
   "source": [
    "# An ecoding-decoding cycle on the first line...\n",
    "temp = encode_seq(text[0],stoi)\n",
    "temp = decode_seq(temp,itos)\n",
    "temp"
   ]
  },
  {
   "cell_type": "code",
   "execution_count": 75,
   "metadata": {},
   "outputs": [
    {
     "data": {
      "text/plain": [
       "'It is a truth universally acknowledged, that a single man in possession'"
      ]
     },
     "execution_count": 75,
     "metadata": {},
     "output_type": "execute_result"
    }
   ],
   "source": [
    "# What was the first line in its original form?\n",
    "text[0]"
   ]
  },
  {
   "cell_type": "raw",
   "metadata": {},
   "source": [
    "I will leave it to you to see what the encoded form likes like if you are curious, but we can clearly both encode and decode these vectors properly.\n",
    "\n",
    "Now, we process all of the data in the text corpus with this information...\n",
    "\n",
    "You will notice one strange thing here. I will first create a matrix specifying an equal probability of observing any token (1/71). This is because softmax can't produce an output vector of all zeros and some of the encoded strings are not 76 elements long. So, the remaining time steps must be completed with something that the softmax function can potentially match. Softmax will never be able to match a flat (all-zero) distribution, and I don't want to skew our final results by asking the network to interpret and adjust to values which are literally impossible for the network to utilize. This is because we will use the final output from the network as input again to predict the next sentence later on. Therefore, the input and output encodings should be consistent to match this expectation..."
   ]
  },
  {
   "cell_type": "code",
   "execution_count": 77,
   "metadata": {},
   "outputs": [],
   "source": [
    "# Encode that data\n",
    "dataX = np.ones([len(text),max([len(i) for i in text])+2,len(itos)])*(1.0/len(itos))\n",
    "for i in range(len(text)):\n",
    "    temp = encode_seq(text[i],stoi)\n",
    "    dataX[i,0:len(temp),:] = temp\n",
    "# Not strictly necessary, but I was trying some alternative strategies\n",
    "# earlier and this is worth keeping around...\n",
    "# This will be the same as dataX using this implementation...\n",
    "dataY = np.ones([len(text),max([len(i) for i in text])+2,len(itos)])*(1.0/len(itos))\n",
    "for i in range(len(text)):\n",
    "    temp = encode_seq(text[i],stoi)\n",
    "    dataY[i,0:len(temp),:] = temp"
   ]
  },
  {
   "cell_type": "raw",
   "metadata": {},
   "source": [
    "Now we split this into input ( X ) and pre- and post-step decoder inputs ( preY and postY )..."
   ]
  },
  {
   "cell_type": "code",
   "execution_count": 78,
   "metadata": {},
   "outputs": [],
   "source": [
    "X = dataX[0:dataX.shape[0]-1,:,:]\n",
    "Y = dataY[1:dataY.shape[0],:,:]\n",
    "preY = Y[:,0:Y.shape[1]-1,:]\n",
    "postY = Y[:,1:Y.shape[1],:]"
   ]
  },
  {
   "cell_type": "raw",
   "metadata": {},
   "source": [
    "Let's decide on how much P&P we really want to learn about. For this example I will just show you how work with 5 sentences, but more could be used..."
   ]
  },
  {
   "cell_type": "code",
   "execution_count": 79,
   "metadata": {},
   "outputs": [
    {
     "name": "stdout",
     "output_type": "stream",
     "text": [
      "(5, 76, 71)\n",
      "(5, 76, 71)\n",
      "(5, 75, 71)\n",
      "(5, 75, 71)\n"
     ]
    }
   ],
   "source": [
    "nlines = 5\n",
    "X = X[0:nlines,:,:]\n",
    "Y = Y[0:nlines,:,:]\n",
    "preY = preY[0:nlines,:,:]\n",
    "postY = postY[0:nlines,:,:]\n",
    "print(X.shape)\n",
    "print(Y.shape)\n",
    "print(preY.shape)\n",
    "print(postY.shape)"
   ]
  },
  {
   "cell_type": "raw",
   "metadata": {},
   "source": [
    "We will not be using the entire text here. In essence, we are asking it to memorize what comes next in sequence from start to finish, and the first 5 sentence pairs will be used as a benchmark to see if anything useful is learned from this training regime. We will see if it can encode and recall these sentences after training, both with and without teacher forcing.\n",
    "\n",
    "It's now time to define the network needed to solve this problem... this will be part of the assignment as outlined below, so use the example above on learning the parity problem to construct a network appropriate for the \"Jane Austen\" problem. Remember, a large hidden layer may be needed to encode many sentence structures, but I just used 3*76 for the examples below. You may need a larger network when encoding longer parts of the text. I've kept the summary() output for my model below to provide some additional hints."
   ]
  },
  {
   "cell_type": "code",
   "execution_count": 92,
   "metadata": {},
   "outputs": [
    {
     "name": "stdout",
     "output_type": "stream",
     "text": [
      "__________________________________________________________________________________________________\n",
      "Layer (type)                    Output Shape         Param #     Connected to                     \n",
      "==================================================================================================\n",
      "input_25 (InputLayer)           (None, None, 71)     0                                            \n",
      "__________________________________________________________________________________________________\n",
      "input_26 (InputLayer)           (None, None, 71)     0                                            \n",
      "__________________________________________________________________________________________________\n",
      "lstm_15 (LSTM)                  [(None, 228), (None, 273600      input_25[0][0]                   \n",
      "__________________________________________________________________________________________________\n",
      "lstm_16 (LSTM)                  [(None, None, 228),  273600      input_26[0][0]                   \n",
      "                                                                 lstm_15[0][1]                    \n",
      "                                                                 lstm_15[0][2]                    \n",
      "__________________________________________________________________________________________________\n",
      "dense_8 (Dense)                 (None, None, 71)     16259       lstm_16[0][0]                    \n",
      "==================================================================================================\n",
      "Total params: 563,459\n",
      "Trainable params: 563,459\n",
      "Non-trainable params: 0\n",
      "__________________________________________________________________________________________________\n"
     ]
    }
   ],
   "source": [
    "# Size of the gestalt, context representations...\n",
    "hidden_size = (max(len(i) for i in text)+2)*3\n",
    "## Encoder Construction\n",
    "# Make the layers\n",
    "encoder_input = keras.layers.Input(shape=(None, X.shape[2]))\n",
    "encoder_hidden = keras.layers.LSTM(hidden_size, return_state=True)\n",
    "# Tie the hidden layer to the input layer (passed in)\n",
    "encoder_output, enc_state_h, enc_state_c = encoder_hidden(encoder_input)\n",
    "# We discard `encoder_outputs` and only keep the states.\n",
    "encoder_states = [enc_state_h, enc_state_c]\n",
    "## Decoder Construction\n",
    "# Set up the decoder, using `encoder_states` as initial state.\n",
    "decoder_input = keras.layers.Input(shape=(None, preY.shape[2]))\n",
    "decoder_hidden = keras.layers.LSTM(hidden_size, return_sequences=True, return_state=True)\n",
    "# Connect hidden to input (also reads from the encoder...)\n",
    "decoder_hidden_output, decoder_state_h, decoder_state_c = decoder_hidden(decoder_input,\n",
    "                                                                initial_state=encoder_states)\n",
    "decoder_dense = keras.layers.Dense(postY.shape[2], activation='softmax')\n",
    "# Connect output to hidden\n",
    "decoder_output = decoder_dense(decoder_hidden_output)\n",
    "# Our functional API model now has -two- input layers:\n",
    "# 1. Reads from X\n",
    "# 2. Reads from preY\n",
    "# and has a -single- output layer...\n",
    "# 1. Targets are postY\n",
    "model = keras.Model([encoder_input, decoder_input], decoder_output)\n",
    "# Compile it...\n",
    "model.compile(loss=keras.losses.categorical_crossentropy,\n",
    "                        optimizer=keras.optimizers.Adam(),\n",
    "                        metrics=['accuracy'])\n",
    "model.summary()"
   ]
  },
  {
   "cell_type": "code",
   "execution_count": 93,
   "metadata": {},
   "outputs": [
    {
     "data": {
      "application/vnd.jupyter.widget-view+json": {
       "model_id": "49d8fc00272a408f8b1ebe9735c76a1d",
       "version_major": 2,
       "version_minor": 0
      },
      "text/plain": [
       "HBox(children=(IntProgress(value=0, description='Training', max=300, style=ProgressStyle(description_width='in…"
      ]
     },
     "metadata": {},
     "output_type": "display_data"
    },
    {
     "data": {
      "application/vnd.jupyter.widget-view+json": {
       "model_id": "",
       "version_major": 2,
       "version_minor": 0
      },
      "text/plain": [
       "HBox(children=(IntProgress(value=0, description='Epoch 0', max=5, style=ProgressStyle(description_width='initi…"
      ]
     },
     "metadata": {},
     "output_type": "display_data"
    },
    {
     "name": "stdout",
     "output_type": "stream",
     "text": [
      "5/5 [==============================] - 1s 213ms/step\n",
      "Accuracy: 82.93333053588867 %\n"
     ]
    }
   ],
   "source": [
    "batch_size = 5\n",
    "epochs = 300\n",
    "history = model.fit([X,preY], postY,\n",
    "    batch_size=batch_size,\n",
    "    epochs=epochs,\n",
    "    verbose=0,\n",
    "    callbacks=[TQDMNotebookCallback()])\n",
    "print('Accuracy:',model.evaluate([X,preY],postY)[1]*100.0,'%')"
   ]
  },
  {
   "cell_type": "code",
   "execution_count": 94,
   "metadata": {},
   "outputs": [
    {
     "data": {
      "image/png": "[encoded data removed]",
      "text/plain": [
       "<Figure size 432x288 with 2 Axes>"
      ]
     },
     "metadata": {
      "needs_background": "light"
     },
     "output_type": "display_data"
    }
   ],
   "source": [
    "plt.figure(1)\n",
    "# summarize history for accuracy\n",
    "plt.subplot(211)\n",
    "plt.plot(history.history['acc'])\n",
    "plt.title('model accuracy')\n",
    "plt.ylabel('accuracy')\n",
    "plt.xlabel('epoch')\n",
    "# summarize history for loss\n",
    "plt.subplot(212)\n",
    "plt.plot(history.history['loss'])\n",
    "plt.title('model loss')\n",
    "plt.ylabel('loss')\n",
    "plt.xlabel('epoch')\n",
    "plt.tight_layout()\n",
    "plt.show()"
   ]
  },
  {
   "cell_type": "code",
   "execution_count": 95,
   "metadata": {},
   "outputs": [],
   "source": [
    "# Make just a model out of the encoder\n",
    "# input = encoder_input (Input layer)\n",
    "# output = encoder_states (enc Hidden layer * 2)\n",
    "encoder_model = keras.Model(encoder_input, encoder_states)\n",
    "# Part 2 - make the decoder\n",
    "# Make just a model out of the decoder\n",
    "# input = encoder_states (enc Hidden layer * 2)\n",
    "# output = decoder_output\n",
    "decoder_state_input_h = keras.layers.Input(shape=(hidden_size,))\n",
    "decoder_state_input_c = keras.layers.Input(shape=(hidden_size,))\n",
    "# Connect hidden to input(s)\n",
    "decoder_states_input = [decoder_state_input_h, decoder_state_input_c]\n",
    "decoder_hidden_output, decoder_state_h, decoder_state_c = decoder_hidden(decoder_input,\n",
    "                                                                        initial_state=decoder_states_input)\n",
    "decoder_states = [decoder_state_h, decoder_state_c]\n",
    "# Connect output to hidden(s)\n",
    "decoder_output = decoder_dense(decoder_hidden_output)\n",
    "decoder_model = keras.Model(\n",
    "    [decoder_input] + decoder_states_input,\n",
    "    [decoder_output] + decoder_states)"
   ]
  },
  {
   "cell_type": "code",
   "execution_count": 96,
   "metadata": {},
   "outputs": [
    {
     "data": {
      "text/plain": [
       "array([[[0., 1., 0., 0., 0., 0., 0., 0., 0., 0., 0., 0., 0., 0., 0., 0.,\n",
       "         0., 0., 0., 0., 0., 0., 0., 0., 0., 0., 0., 0., 0., 0., 0., 0.,\n",
       "         0., 0., 0., 0., 0., 0., 0., 0., 0., 0., 0., 0., 0., 0., 0., 0.,\n",
       "         0., 0., 0., 0., 0., 0., 0., 0., 0., 0., 0., 0., 0., 0., 0., 0.,\n",
       "         0., 0., 0., 0., 0., 0., 0.]]], dtype=float32)"
      ]
     },
     "execution_count": 96,
     "metadata": {},
     "output_type": "execute_result"
    }
   ],
   "source": [
    "# Get the gestalt context for the input sequence(s)\n",
    "i = 0\n",
    "context = encoder_model.predict(X[i:i+1,:,:])\n",
    "# Prep a starting token...\n",
    "token = encode_seq('',stoi)[0].reshape(1,1,len(stoi))\n",
    "token"
   ]
  },
  {
   "cell_type": "code",
   "execution_count": 97,
   "metadata": {},
   "outputs": [
    {
     "name": "stdout",
     "output_type": "stream",
     "text": [
      "Input: It is a truth universally acknowledged, that a single man in possession\n",
      "Output: of a good fortune, must be in want of a wife.\n"
     ]
    }
   ],
   "source": [
    "# What should we see?\n",
    "print('Input:', text[i])\n",
    "print('Output:', text[i+1])"
   ]
  },
  {
   "cell_type": "code",
   "execution_count": 98,
   "metadata": {},
   "outputs": [
    {
     "data": {
      "text/plain": [
       "'of a good fortune, must be in want of a wife.'"
      ]
     },
     "execution_count": 98,
     "metadata": {},
     "output_type": "execute_result"
    }
   ],
   "source": [
    "# Complete max cycles with the decoder\n",
    "result = np.zeros([1,postY.shape[1],postY.shape[2]])\n",
    "for x in range(postY.shape[1]):\n",
    "    out,h,c = decoder_model.predict([token]+context)\n",
    "    token = np.round(out)\n",
    "    context = [h,c]\n",
    "    result[:,x,:] = token\n",
    "decode_seq(result[0,:,:],itos)"
   ]
  },
  {
   "cell_type": "code",
   "execution_count": 99,
   "metadata": {},
   "outputs": [
    {
     "name": "stdout",
     "output_type": "stream",
     "text": [
      "Txt: of a good fortune, must be in want of a wife.\n",
      "Net: of a good fortune, must be in want of a wife.\n",
      "Txt: However little known the feelings or views of such a man may be on his\n",
      "Net: However little known the feelings or views of such a man may be on his\n",
      "Txt: first entering a neighbourhood, this truth is so well fixed in the minds\n",
      "Net: of rn entheis os   a   on is\n",
      "Txt: of the surrounding families, that he is considered the rightful property\n",
      "Net: of the surrounding families, that he is considered the rightful property\n",
      "Txt: of some one or other of their daughters.\n",
      "Net: of some one or other of their daughters.\n"
     ]
    }
   ],
   "source": [
    "# Iterate - teacher forcing through each line\n",
    "for i in range(0,nlines):\n",
    "    # Get the gestalt context for the input sequence(s)\n",
    "    context = encoder_model.predict(X[i:i+1,:,:])\n",
    "    # Prep a starting token...\n",
    "    token = encode_seq('',stoi)[0].reshape(1,1,len(stoi))\n",
    "    result = np.zeros([1,postY.shape[1],postY.shape[2]])\n",
    "    for x in range(postY.shape[1]):\n",
    "        out,h,c = decoder_model.predict([token]+context)\n",
    "        token = np.round(out)\n",
    "        context = [h,c]\n",
    "        result[:,x,:] = token\n",
    "    print('Txt:',text[i+1])\n",
    "    print('Net:',decode_seq(result[0,:,:],itos))"
   ]
  },
  {
   "cell_type": "code",
   "execution_count": 100,
   "metadata": {},
   "outputs": [
    {
     "name": "stdout",
     "output_type": "stream",
     "text": [
      "Txt: of a good fortune, must be in want of a wife.\n",
      "Net: of a good fortune, must be in want of a wife.\n",
      "Txt: However little known the feelings or views of such a man may be on his\n",
      "Net: of e ron feithtesoer h  min  odi\n",
      "Txt: first entering a neighbourhood, this truth is so well fixed in the minds\n",
      "Net: of e rnn etheis oser    r\n",
      "Txt: of the surrounding families, that he is considered the rightful property\n",
      "Net: of e nrone bethtr ssel  in   ins\n",
      "Txt: of some one or other of their daughters.\n",
      "Net: of ron eithe is oser   a min  ond\n"
     ]
    }
   ],
   "source": [
    "# Iterate - but no teaching forcing past first line...\n",
    "# Get the gestalt context for the input sequence\n",
    "i = 0\n",
    "context = encoder_model.predict(X[i:i+1,:,:])\n",
    "for i in range(0,nlines):\n",
    "    # Prep a starting token...\n",
    "    token = encode_seq('',stoi)[0].reshape(1,1,len(stoi))\n",
    "    result = np.zeros([1,postY.shape[1],postY.shape[2]])\n",
    "    for x in range(postY.shape[1]):\n",
    "        out,h,c = decoder_model.predict([token]+context)\n",
    "        token = np.round(out)\n",
    "        context = [h,c]\n",
    "        result[:,x,:] = token\n",
    "    print('Txt:',text[i+1])\n",
    "    print('Net:',decode_seq(result[0,:,:],itos))\n",
    "    # CRUCIAL -> keep predicted result instead of teacher forcing!\n",
    "    context = encoder_model.predict(result)"
   ]
  },
  {
   "cell_type": "code",
   "execution_count": null,
   "metadata": {},
   "outputs": [],
   "source": []
  }
 ],
 "metadata": {
  "kernelspec": {
   "display_name": "Python 3",
   "language": "python",
   "name": "python3"
  },
  "language_info": {
   "codemirror_mode": {
    "name": "ipython",
    "version": 3
   },
   "file_extension": ".py",
   "mimetype": "text/x-python",
   "name": "python",
   "nbconvert_exporter": "python",
   "pygments_lexer": "ipython3",
   "version": "3.6.7"
  }
 },
 "nbformat": 4,
 "nbformat_minor": 2
}
